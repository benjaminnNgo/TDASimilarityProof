{
 "cells": [
  {
   "cell_type": "code",
   "execution_count": 2,
   "id": "04037d62",
   "metadata": {},
   "outputs": [],
   "source": [
    "import numpy as np\n",
    "import networkx as nx\n",
    "import kmapper as km\n",
    "import sklearn\n",
    "import warnings\n",
    "import matplotlib.pyplot as plt\n",
    "import signal\n",
    "import time\n",
    "import random\n",
    "from networkx.algorithms.similarity import graph_edit_distance\n",
    "\n",
    "warnings.filterwarnings(\"ignore\")"
   ]
  },
  {
   "cell_type": "code",
   "execution_count": 3,
   "id": "e63b8cf3",
   "metadata": {},
   "outputs": [],
   "source": [
    "def select_k(spectrum, minimum_energy = 0.9):\n",
    "    running_total = 0.0 \n",
    "    \n",
    "    total = sum(spectrum)\n",
    "    if total == 0.0:\n",
    "        return len(spectrum)\n",
    "    for i in range(len(spectrum)):\n",
    "        running_total += spectrum[i]\n",
    "        if running_total / total >= minimum_energy:\n",
    "            return i + 1\n",
    "    return len(spectrum)"
   ]
  },
  {
   "cell_type": "code",
   "execution_count": 4,
   "id": "e2ff9496",
   "metadata": {},
   "outputs": [],
   "source": [
    "def calculate_similarity(graph1,graph2):\n",
    "    laplacian1 = nx.spectrum.laplacian_spectrum(graph1)\n",
    "    laplacian2 = nx.spectrum.laplacian_spectrum(graph2)\n",
    "    \n",
    "    k1 = select_k(laplacian1)\n",
    "    k2 = select_k(laplacian2)\n",
    "    k = min(k1, k2) #k are different between the two graphs, then use the smaller one.\n",
    "    similarity = sum((laplacian1[:k] - laplacian2[:k])**2) #sum of the squared differences between the largest k eigenvalues\n",
    "    return similarity\n"
   ]
  },
  {
   "cell_type": "code",
   "execution_count": 5,
   "id": "b2fdf8af",
   "metadata": {},
   "outputs": [],
   "source": [
    "def extract_graph_features(graph):\n",
    "#     pr = nx.pagerank(graph,0.9)\n",
    "    dc = nx.degree_centrality(graph)\n",
    "    cc = nx.closeness_centrality(graph)\n",
    "    bx = nx.betweenness_centrality(graph)\n",
    "    c = nx.clustering(graph)\n",
    "    \n",
    "    #create list for each features\n",
    "#     pr_list =  [i for i in pr.values()]\n",
    "    dc_list =  [i for i in dc.values()]\n",
    "    cc_list =  [i for i in cc.values()]\n",
    "    bx_list =  [i for i in bx.values()]\n",
    "    c_list =  [i for i in c.values()]\n",
    "    d_list = [val for (node, val) in graph.degree()]\n",
    "    data = np.column_stack((dc_list,cc_list,bx_list,c_list,d_list))\n",
    "    return data"
   ]
  },
  {
   "cell_type": "code",
   "execution_count": 6,
   "id": "52242424",
   "metadata": {},
   "outputs": [],
   "source": [
    "def TDA_transformation(data):\n",
    "    Xfilt = data\n",
    "    mapper = km.KeplerMapper()\n",
    "    scaler = sklearn.preprocessing.MinMaxScaler(feature_range=(0, 1))\n",
    "    Xfilt = scaler.fit_transform(Xfilt)\n",
    "    lens = mapper.fit_transform(Xfilt, projection=sklearn.manifold.TSNE())\n",
    "    cls = 2  # We use cls= 5\n",
    "\n",
    "    graph = mapper.map(lens,Xfilt,clusterer=sklearn.cluster.KMeans(n_clusters=cls,random_state=1618033),\n",
    "        cover=km.Cover(n_cubes=5, perc_overlap=0.1))\n",
    "    return km.to_nx(graph)"
   ]
  },
  {
   "cell_type": "code",
   "execution_count": 7,
   "id": "9a0b23d2",
   "metadata": {},
   "outputs": [],
   "source": [
    "def add_node_to_graph(graph,p):\n",
    "    new_node = graph.number_of_nodes() + 1\n",
    "    graph.add_node(new_node)\n",
    "    existing_nodes = list(graph.nodes())[:-1]  # Exclude the new node\n",
    "    for existing_node in existing_nodes:\n",
    "        if random.random() < p:  \n",
    "            graph.add_edge(new_node, existing_node)\n",
    "    return graph\n",
    "    "
   ]
  },
  {
   "cell_type": "code",
   "execution_count": 8,
   "id": "ba918e8d",
   "metadata": {},
   "outputs": [],
   "source": [
    "def remove_least_degree_node(graph):\n",
    "    degrees = graph.degree()\n",
    "    min_degree_node = min(degrees, key=lambda x: x[1])[0]\n",
    "    # Remove the node with the minimum degree\n",
    "    graph.remove_node(min_degree_node)\n",
    "    return graph"
   ]
  },
  {
   "cell_type": "code",
   "execution_count": 9,
   "id": "0ffe5aff",
   "metadata": {},
   "outputs": [],
   "source": [
    "def random_add_new_edge(graph):\n",
    "    node_num = graph.number_of_nodes()\n",
    "    node1 = random.randint(1,node_num)\n",
    "    node2 = random.randint(1,node_num)\n",
    "    while graph.has_edge(node1,node2) or node1 == node2 :\n",
    "        node1 = random.randint(1,node_num)\n",
    "        node2 = random.randint(1,node_num)\n",
    "    graph.add_edge(node1,node2)\n",
    "    return graph"
   ]
  },
  {
   "cell_type": "code",
   "execution_count": 10,
   "id": "b534165d",
   "metadata": {},
   "outputs": [],
   "source": [
    "def random_remove_edge(graph):\n",
    "    random_edge = random.choice(list(graph.edges()))\n",
    "    # Remove the randomly selected edge\n",
    "    graph.remove_edge(*random_edge)\n",
    "    return graph"
   ]
  },
  {
   "cell_type": "code",
   "execution_count": 11,
   "id": "c4977852",
   "metadata": {},
   "outputs": [],
   "source": [
    "def graph_generator(original_graph, node, edge,p):\n",
    "    new_graph = original_graph.copy()\n",
    "    if node < 0:\n",
    "        for i in range(abs(node)):\n",
    "            new_graph = remove_least_degree_node(new_graph)\n",
    "    elif node > 0:\n",
    "        for i in range(abs(node)):\n",
    "            new_graph = add_node_to_graph(new_graph,p)\n",
    "    \n",
    "    if edge < 0:\n",
    "        for i in range(abs(edge)):\n",
    "            new_graph = random_remove_edge(new_graph)\n",
    "    elif edge >0:\n",
    "        for i in range(abs(edge)):\n",
    "            new_graph = random_add_new_edge(new_graph)\n",
    "    return new_graph"
   ]
  },
  {
   "cell_type": "code",
   "execution_count": 12,
   "id": "34882567",
   "metadata": {},
   "outputs": [],
   "source": [
    "def calc_original_average_similarity_for_hop(graph, hop,p):\n",
    "    counter = 0\n",
    "    sum = 0\n",
    "    for i in range(-hop,hop + 1):\n",
    "        for j in range(-hop,hop + 1):\n",
    "            if (i == -hop or i == hop or j == -hop or j == hop):\n",
    "                neighbour = graph_generator(graph,j,i,p)\n",
    "                score = calculate_similarity(graph, neighbour)\n",
    "                sum += score\n",
    "                counter += 1\n",
    "    return sum/counter"
   ]
  },
  {
   "cell_type": "code",
   "execution_count": 13,
   "id": "58dfc095",
   "metadata": {},
   "outputs": [],
   "source": [
    "def calc_TDA_average_similarity_for_hop(graph, hop,p):\n",
    "    counter = 0\n",
    "    sum = 0\n",
    "    for i in range(-hop,hop + 1):\n",
    "        for j in range(-hop,hop + 1):\n",
    "            if (i == -hop or i == hop or j == -hop or j == hop):\n",
    "                neighbour = graph_generator(graph,j,i,p)\n",
    "                TDA_graph = TDA_transformation(extract_graph_features(graph))\n",
    "                TDA_neighbour = TDA_transformation(extract_graph_features(neighbour))\n",
    "                score = calculate_similarity(TDA_graph, TDA_neighbour)\n",
    "                sum += score\n",
    "                counter += 1\n",
    "    return sum/counter"
   ]
  },
  {
   "cell_type": "code",
   "execution_count": 14,
   "id": "344dc981",
   "metadata": {},
   "outputs": [],
   "source": [
    "def calc_both_average_similarity_for_hop(graph, hop,p):\n",
    "    counter = 0\n",
    "    sum_original = 0\n",
    "    sum_TDA = 0\n",
    "    for i in range(-hop,hop + 1):\n",
    "        for j in range(-hop,hop + 1):\n",
    "            if (i == -hop or i == hop or j == -hop or j == hop):\n",
    "                neighbour = graph_generator(graph,j,i,p)\n",
    "                TDA_graph = TDA_transformation(extract_graph_features(graph))\n",
    "                TDA_neighbour = TDA_transformation(extract_graph_features(neighbour))\n",
    "                \n",
    "                score_TDA = calculate_similarity(TDA_graph, TDA_neighbour)\n",
    "                score_original = calculate_similarity(graph, neighbour)\n",
    "                \n",
    "                sum_TDA += score_TDA\n",
    "                sum_original += score_original\n",
    "                counter += 1\n",
    "    return {\"TDA\": sum_TDA/counter,\"original\": sum_original/counter}"
   ]
  },
  {
   "cell_type": "code",
   "execution_count": 16,
   "id": "fe4ba200",
   "metadata": {},
   "outputs": [],
   "source": [
    "G = nx.erdos_renyi_graph(n=20,p=0.5)"
   ]
  },
  {
   "cell_type": "code",
   "execution_count": 16,
   "id": "1ef8ec80",
   "metadata": {},
   "outputs": [
    {
     "data": {
      "text/plain": [
       "19.705066461042694"
      ]
     },
     "execution_count": 16,
     "metadata": {},
     "output_type": "execute_result"
    }
   ],
   "source": [
    "result_original = calc_original_average_similarity_for_hop(G,2,0.9)\n",
    "result_original"
   ]
  },
  {
   "cell_type": "code",
   "execution_count": 17,
   "id": "1b8d62a7",
   "metadata": {},
   "outputs": [
    {
     "data": {
      "text/plain": [
       "3.625"
      ]
     },
     "execution_count": 17,
     "metadata": {},
     "output_type": "execute_result"
    }
   ],
   "source": [
    "result_TDA = calc_TDA_average_similarity_for_hop(G,1,0.9)\n",
    "result_TDA"
   ]
  },
  {
   "cell_type": "code",
   "execution_count": 124,
   "id": "1d90d399",
   "metadata": {},
   "outputs": [
    {
     "data": {
      "text/plain": [
       "False"
      ]
     },
     "execution_count": 124,
     "metadata": {},
     "output_type": "execute_result"
    }
   ],
   "source": [
    "result_TDA> result_original"
   ]
  },
  {
   "cell_type": "code",
   "execution_count": 194,
   "id": "7d1f7488",
   "metadata": {},
   "outputs": [
    {
     "name": "stdout",
     "output_type": "stream",
     "text": [
      "26.424260497985095 10.274605293822884\n"
     ]
    }
   ],
   "source": [
    "G = nx.erdos_renyi_graph(n= 30,p=0.1) #n = 5, overlapping 0.1\n",
    "dict = calc_both_average_similarity_for_hop(G,10,0.1)\n",
    "TDA = dict['TDA']\n",
    "original = dict['original']\n",
    "print (original,TDA)"
   ]
  },
  {
   "cell_type": "code",
   "execution_count": 171,
   "id": "a96ccca4",
   "metadata": {},
   "outputs": [
    {
     "data": {
      "text/plain": [
       "62.28571428571428"
      ]
     },
     "execution_count": 171,
     "metadata": {},
     "output_type": "execute_result"
    }
   ],
   "source": [
    "score = calc_TDA_average_similarity_for_hop(G,7,0.9)\n",
    "score"
   ]
  },
  {
   "cell_type": "code",
   "execution_count": 15,
   "id": "054fc010",
   "metadata": {},
   "outputs": [],
   "source": [
    "def calc_hop():\n",
    "    threshold = 100\n",
    "    n = random.randint(30, 50)\n",
    "    p = round(random.uniform(0, 100))\n",
    "    reference_graph = nx.erdos_renyi_graph(n,p)\n",
    "    \n",
    "    TDA_average = 0\n",
    "    original_average = 0\n",
    "    \n",
    "    TDA_hop = 0\n",
    "    original_hop = 0\n",
    "    while TDA_average <= threshold or original_average <= threshold:\n",
    "        if(TDA_average <= threshold and original_average <= threshold):\n",
    "            TDA_hop += 1\n",
    "            original_hop += 1\n",
    "            result = calc_both_average_similarity_for_hop(reference_graph,TDA_hop ,p)\n",
    "            TDA_average = result['TDA']\n",
    "            original_average = result['original']\n",
    "            \n",
    "        elif(TDA_average <= threshold):\n",
    "            TDA_hop += 1\n",
    "            TDA_average = calc_TDA_average_similarity_for_hop(reference_graph,TDA_hop,p)\n",
    "        elif(original_average <= threshold):\n",
    "            original_hop += 1\n",
    "            original_average = calc_original_average_similarity_for_hop(reference_graph,original_hop,p)\n",
    "\n",
    "    \n",
    "    return {\"Threshold\": threshold, \"n\":n,\"p\":p,\"last_TDA_average\": TDA_average, \"last_original_average\": original_average,\n",
    "           \"TDA_hop\": TDA_hop,\"orginal_hop\":original_hop}"
   ]
  },
  {
   "cell_type": "code",
   "execution_count": null,
   "id": "4ee3652a",
   "metadata": {},
   "outputs": [],
   "source": [
    "result = calc_hop()\n",
    "result"
   ]
  },
  {
   "cell_type": "code",
   "execution_count": 37,
   "id": "82b0f604",
   "metadata": {},
   "outputs": [],
   "source": [
    "def calc_hop_v1():\n",
    "    threshold = 100\n",
    "    n = random.randint(80,100)\n",
    "    \n",
    "    p = round(random.uniform(30, 100))/100\n",
    "#     n = 30\n",
    "#     p = 0.6\n",
    "    reference_graph = nx.erdos_renyi_graph(n,p)\n",
    "    \n",
    "    TDA_average = 0\n",
    "    original_average = 0\n",
    "    \n",
    "    TDA_hop = 0\n",
    "    original_hop = 0\n",
    "    while (TDA_average <= threshold or original_average <= threshold) and TDA_hop < 10:\n",
    "        if(TDA_average <= threshold and original_average <= threshold):\n",
    "            TDA_hop += 1\n",
    "            original_hop += 1\n",
    "            result = calc_both_average_similarity_for_hop(reference_graph,TDA_hop ,p)\n",
    "            TDA_average = result['TDA']\n",
    "            original_average = result['original']\n",
    "            print(TDA_average,original_average)\n",
    "        elif(TDA_average <= threshold):\n",
    "            TDA_hop += 1\n",
    "            TDA_average = calc_TDA_average_similarity_for_hop(reference_graph,TDA_hop,p)\n",
    "            print(TDA_average)\n",
    "        elif(original_average <= threshold):\n",
    "            original_hop += 1\n",
    "            original_average = calc_original_average_similarity_for_hop(reference_graph,original_hop,p)\n",
    "            \n",
    "\n",
    "    \n",
    "    return {\"Threshold\": threshold, \"n\":n,\"p\":p,\"last_TDA_average\": TDA_average, \"last_original_average\": original_average,\n",
    "           \"TDA_hop\": TDA_hop,\"orginal_hop\":original_hop}\n",
    "#     return {\"TDA_hop\":TDA_hop,\"orginnal\":original_hop}"
   ]
  },
  {
   "cell_type": "code",
   "execution_count": null,
   "id": "130335d9",
   "metadata": {},
   "outputs": [],
   "source": []
  },
  {
   "cell_type": "code",
   "execution_count": 19,
   "id": "460dd4c8",
   "metadata": {},
   "outputs": [
    {
     "name": "stdout",
     "output_type": "stream",
     "text": [
      "25.193860090508146 103.17941832798756\n",
      "25.814374849129177\n",
      "23.59225980739336\n",
      "20.56378693141322\n",
      "25.23307418820466\n",
      "29.64052264941301\n",
      "22.662581091961815\n",
      "29.770285349276335\n",
      "27.833157828644755\n",
      "28.88002958981512\n"
     ]
    },
    {
     "data": {
      "text/plain": [
       "{'Threshold': 50,\n",
       " 'n': 48,\n",
       " 'p': 0.63,\n",
       " 'last_TDA_average': 28.88002958981512,\n",
       " 'last_original_average': 103.17941832798756,\n",
       " 'TDA_hop': 10,\n",
       " 'orginal_hop': 1}"
      ]
     },
     "execution_count": 19,
     "metadata": {},
     "output_type": "execute_result"
    }
   ],
   "source": [
    "result = calc_hop_v1()\n",
    "result"
   ]
  },
  {
   "cell_type": "code",
   "execution_count": 22,
   "id": "c6a08bff",
   "metadata": {},
   "outputs": [
    {
     "name": "stdout",
     "output_type": "stream",
     "text": [
      "33.95747837834349 1.984352623472304\n",
      "16.69543439802717 8.257591325521911\n",
      "23.325828771425382 32.003944793009865\n",
      "33.468608513912784 59.0415088570316\n",
      "21.67898955915578\n",
      "25.429875965869684\n",
      "30.93855982068564\n",
      "25.073344062365262\n",
      "24.524953563308376\n",
      "21.213343072849156\n"
     ]
    },
    {
     "ename": "NameError",
     "evalue": "name 'resul' is not defined",
     "output_type": "error",
     "traceback": [
      "\u001b[1;31m---------------------------------------------------------------------------\u001b[0m",
      "\u001b[1;31mNameError\u001b[0m                                 Traceback (most recent call last)",
      "\u001b[1;32m~\\AppData\\Local\\Temp\\ipykernel_28236\\3862466624.py\u001b[0m in \u001b[0;36m<module>\u001b[1;34m\u001b[0m\n\u001b[0;32m      1\u001b[0m \u001b[0mresult\u001b[0m \u001b[1;33m=\u001b[0m \u001b[0mcalc_hop_v1\u001b[0m\u001b[1;33m(\u001b[0m\u001b[1;33m)\u001b[0m\u001b[1;33m\u001b[0m\u001b[1;33m\u001b[0m\u001b[0m\n\u001b[1;32m----> 2\u001b[1;33m \u001b[0mresul\u001b[0m\u001b[1;33m\u001b[0m\u001b[1;33m\u001b[0m\u001b[0m\n\u001b[0m",
      "\u001b[1;31mNameError\u001b[0m: name 'resul' is not defined"
     ]
    }
   ],
   "source": [
    "result = calc_hop_v1()\n",
    "resul"
   ]
  },
  {
   "cell_type": "code",
   "execution_count": 24,
   "id": "a9f618f2",
   "metadata": {},
   "outputs": [
    {
     "data": {
      "text/plain": [
       "{'Threshold': 50,\n",
       " 'n': 46,\n",
       " 'p': 0.44,\n",
       " 'last_TDA_average': 21.213343072849156,\n",
       " 'last_original_average': 59.0415088570316,\n",
       " 'TDA_hop': 10,\n",
       " 'orginal_hop': 4}"
      ]
     },
     "execution_count": 24,
     "metadata": {},
     "output_type": "execute_result"
    }
   ],
   "source": [
    "result"
   ]
  },
  {
   "cell_type": "code",
   "execution_count": 26,
   "id": "5dad9b83",
   "metadata": {},
   "outputs": [
    {
     "name": "stdout",
     "output_type": "stream",
     "text": [
      "12.0 4.3569830386789254\n",
      "20.25 13.299426233742658\n",
      "25.151872092638172 22.42561983886885\n",
      "20.989049392073984 29.429558895042405\n",
      "20.632973309264578 46.930708689351846\n",
      "20.45866147132654\n",
      "20.00663025416645\n",
      "25.244022286596586\n",
      "23.01983158993419\n",
      "21.524833201252175\n"
     ]
    },
    {
     "ename": "NameError",
     "evalue": "name 'resul' is not defined",
     "output_type": "error",
     "traceback": [
      "\u001b[1;31m---------------------------------------------------------------------------\u001b[0m",
      "\u001b[1;31mNameError\u001b[0m                                 Traceback (most recent call last)",
      "\u001b[1;32m~\\AppData\\Local\\Temp\\ipykernel_28236\\3862466624.py\u001b[0m in \u001b[0;36m<module>\u001b[1;34m\u001b[0m\n\u001b[0;32m      1\u001b[0m \u001b[0mresult\u001b[0m \u001b[1;33m=\u001b[0m \u001b[0mcalc_hop_v1\u001b[0m\u001b[1;33m(\u001b[0m\u001b[1;33m)\u001b[0m\u001b[1;33m\u001b[0m\u001b[1;33m\u001b[0m\u001b[0m\n\u001b[1;32m----> 2\u001b[1;33m \u001b[0mresul\u001b[0m\u001b[1;33m\u001b[0m\u001b[1;33m\u001b[0m\u001b[0m\n\u001b[0m",
      "\u001b[1;31mNameError\u001b[0m: name 'resul' is not defined"
     ]
    }
   ],
   "source": [
    "result = calc_hop_v1()\n",
    "resul"
   ]
  },
  {
   "cell_type": "code",
   "execution_count": 27,
   "id": "4152adc0",
   "metadata": {},
   "outputs": [
    {
     "data": {
      "text/plain": [
       "{'Threshold': 40,\n",
       " 'n': 37,\n",
       " 'p': 0.45,\n",
       " 'last_TDA_average': 21.524833201252175,\n",
       " 'last_original_average': 46.930708689351846,\n",
       " 'TDA_hop': 10,\n",
       " 'orginal_hop': 5}"
      ]
     },
     "execution_count": 27,
     "metadata": {},
     "output_type": "execute_result"
    }
   ],
   "source": [
    "result"
   ]
  },
  {
   "cell_type": "code",
   "execution_count": 29,
   "id": "d336f7b2",
   "metadata": {},
   "outputs": [
    {
     "name": "stdout",
     "output_type": "stream",
     "text": [
      "12.566804130011953 120.90573354791978\n",
      "14.73039321881345\n",
      "13.109146678108738\n",
      "14.120582269569542\n",
      "15.467157287525378\n",
      "18.134407515442813\n",
      "25.245536677337103\n",
      "18.95806016476702\n",
      "20.903388914921383\n",
      "20.609314575050757\n"
     ]
    },
    {
     "data": {
      "text/plain": [
       "{'Threshold': 35,\n",
       " 'n': 38,\n",
       " 'p': 0.79,\n",
       " 'last_TDA_average': 20.609314575050757,\n",
       " 'last_original_average': 120.90573354791978,\n",
       " 'TDA_hop': 10,\n",
       " 'orginal_hop': 1}"
      ]
     },
     "execution_count": 29,
     "metadata": {},
     "output_type": "execute_result"
    }
   ],
   "source": [
    "result = calc_hop_v1()\n",
    "result"
   ]
  },
  {
   "cell_type": "code",
   "execution_count": 31,
   "id": "d59ba51b",
   "metadata": {},
   "outputs": [
    {
     "name": "stdout",
     "output_type": "stream",
     "text": [
      "26.207478378343488 3.927960801589278\n",
      "13.046524744255253 12.114885360773897\n",
      "16.85247637020027 15.267114822646825\n",
      "16.156333923293353 30.078317567891144\n",
      "19.36723677732902\n",
      "18.912836425745763\n",
      "20.228785292163714\n",
      "23.63583426054503\n",
      "25.85344830252786\n",
      "21.25726682628109\n"
     ]
    },
    {
     "data": {
      "text/plain": [
       "{'Threshold': 30,\n",
       " 'n': 38,\n",
       " 'p': 0.43,\n",
       " 'last_TDA_average': 21.25726682628109,\n",
       " 'last_original_average': 30.078317567891144,\n",
       " 'TDA_hop': 10,\n",
       " 'orginal_hop': 4}"
      ]
     },
     "execution_count": 31,
     "metadata": {},
     "output_type": "execute_result"
    }
   ],
   "source": [
    "result = calc_hop_v1()\n",
    "result"
   ]
  },
  {
   "cell_type": "code",
   "execution_count": 38,
   "id": "dbc86049",
   "metadata": {},
   "outputs": [
    {
     "name": "stdout",
     "output_type": "stream",
     "text": [
      "40.916739700623296 513.47991885051\n",
      "24.12393213510389\n",
      "25.94781197854039\n",
      "33.8795452549297\n",
      "33.31390813090973\n",
      "32.67761848897168\n",
      "32.619262871888026\n",
      "39.55643071866573\n",
      "38.99047026603503\n",
      "27.59012437032049\n"
     ]
    },
    {
     "data": {
      "text/plain": [
       "{'Threshold': 100,\n",
       " 'n': 83,\n",
       " 'p': 0.87,\n",
       " 'last_TDA_average': 27.59012437032049,\n",
       " 'last_original_average': 513.47991885051,\n",
       " 'TDA_hop': 10,\n",
       " 'orginal_hop': 1}"
      ]
     },
     "execution_count": 38,
     "metadata": {},
     "output_type": "execute_result"
    }
   ],
   "source": [
    "result = calc_hop_v1()\n",
    "result"
   ]
  }
 ],
 "metadata": {
  "kernelspec": {
   "display_name": "Python 3 (ipykernel)",
   "language": "python",
   "name": "python3"
  },
  "language_info": {
   "codemirror_mode": {
    "name": "ipython",
    "version": 3
   },
   "file_extension": ".py",
   "mimetype": "text/x-python",
   "name": "python",
   "nbconvert_exporter": "python",
   "pygments_lexer": "ipython3",
   "version": "3.9.13"
  }
 },
 "nbformat": 4,
 "nbformat_minor": 5
}
