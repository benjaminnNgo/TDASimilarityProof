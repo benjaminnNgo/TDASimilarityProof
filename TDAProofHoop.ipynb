{
 "cells": [
  {
   "cell_type": "code",
   "execution_count": 1,
   "id": "04037d62",
   "metadata": {},
   "outputs": [],
   "source": [
    "import numpy as np\n",
    "import networkx as nx\n",
    "import kmapper as km\n",
    "import sklearn\n",
    "import warnings\n",
    "import matplotlib.pyplot as plt\n",
    "import signal\n",
    "import time\n",
    "import random\n",
    "from networkx.algorithms.similarity import graph_edit_distance\n",
    "\n",
    "warnings.filterwarnings(\"ignore\")"
   ]
  },
  {
   "cell_type": "code",
   "execution_count": 2,
   "id": "6ec5736a",
   "metadata": {},
   "outputs": [
    {
     "data": {
      "text/plain": [
       "0.0"
      ]
     },
     "execution_count": 2,
     "metadata": {},
     "output_type": "execute_result"
    }
   ],
   "source": [
    "G1 = nx.star_graph(5)\n",
    "G2 = nx.star_graph(5)\n",
    "distance = graph_edit_distance(G1, G2)\n",
    "distance"
   ]
  },
  {
   "cell_type": "code",
   "execution_count": 3,
   "id": "e63b8cf3",
   "metadata": {},
   "outputs": [],
   "source": [
    "def select_k(spectrum, minimum_energy = 0.9):\n",
    "    running_total = 0.0 \n",
    "    \n",
    "    total = sum(spectrum)\n",
    "    if total == 0.0:\n",
    "        return len(spectrum)\n",
    "    for i in range(len(spectrum)):\n",
    "        running_total += spectrum[i]\n",
    "        if running_total / total >= minimum_energy:\n",
    "            return i + 1\n",
    "    return len(spectrum)"
   ]
  },
  {
   "cell_type": "code",
   "execution_count": 4,
   "id": "e2ff9496",
   "metadata": {},
   "outputs": [],
   "source": [
    "def calculate_similarity(graph1,graph2):\n",
    "    laplacian1 = nx.spectrum.laplacian_spectrum(graph1)\n",
    "    laplacian2 = nx.spectrum.laplacian_spectrum(graph2)\n",
    "    \n",
    "    k1 = select_k(laplacian1)\n",
    "    k2 = select_k(laplacian2)\n",
    "    k = min(k1, k2) #k are different between the two graphs, then use the smaller one.\n",
    "    similarity = sum((laplacian1[:k] - laplacian2[:k])**2) #sum of the squared differences between the largest k eigenvalues\n",
    "    return similarity\n"
   ]
  },
  {
   "cell_type": "code",
   "execution_count": 5,
   "id": "b2fdf8af",
   "metadata": {},
   "outputs": [],
   "source": [
    "def extract_graph_features(graph):\n",
    "    pr = nx.pagerank(graph,0.9)\n",
    "    dc = nx.degree_centrality(graph)\n",
    "    cc = nx.closeness_centrality(graph)\n",
    "    bx = nx.betweenness_centrality(graph)\n",
    "    c = nx.clustering(graph)\n",
    "    \n",
    "    #create list for each features\n",
    "    pr_list =  [i for i in pr.values()]\n",
    "    dc_list =  [i for i in dc.values()]\n",
    "    cc_list =  [i for i in cc.values()]\n",
    "    bx_list =  [i for i in bx.values()]\n",
    "    c_list =  [i for i in c.values()]\n",
    "    d_list = [val for (node, val) in graph.degree()]\n",
    "    data = np.column_stack((pr_list,dc_list,cc_list,bx_list,c_list,d_list))\n",
    "    return data"
   ]
  },
  {
   "cell_type": "code",
   "execution_count": 16,
   "id": "52242424",
   "metadata": {},
   "outputs": [],
   "source": [
    "def TDA_transformation(data):\n",
    "    Xfilt = data\n",
    "    mapper = km.KeplerMapper()\n",
    "    scaler = sklearn.preprocessing.MinMaxScaler(feature_range=(0, 1))\n",
    "    Xfilt = scaler.fit_transform(Xfilt)\n",
    "    lens = mapper.fit_transform(Xfilt, projection=sklearn.manifold.TSNE())\n",
    "    cls = 2  # We use cls= 5\n",
    "\n",
    "    graph = mapper.map(lens,Xfilt,clusterer=sklearn.cluster.KMeans(n_clusters=cls,random_state=1618033),\n",
    "        cover=km.Cover(n_cubes=2, perc_overlap=0.7))\n",
    "    return km.to_nx(graph)"
   ]
  },
  {
   "cell_type": "code",
   "execution_count": 39,
   "id": "9a0b23d2",
   "metadata": {},
   "outputs": [],
   "source": [
    "def add_node_to_graph(graph,p):\n",
    "    new_node = graph.number_of_nodes() + 1\n",
    "    graph.add_node(new_node)\n",
    "    existing_nodes = list(graph.nodes())[:-1]  # Exclude the new node\n",
    "    for existing_node in existing_nodes:\n",
    "        if random.random() < p:  \n",
    "            graph.add_edge(new_node, existing_node)\n",
    "    return graph\n",
    "    "
   ]
  },
  {
   "cell_type": "code",
   "execution_count": 24,
   "id": "ba918e8d",
   "metadata": {},
   "outputs": [],
   "source": [
    "def remove_least_degree_node(graph):\n",
    "    degrees = graph.degree()\n",
    "    min_degree_node = min(degrees, key=lambda x: x[1])[0]\n",
    "    # Remove the node with the minimum degree\n",
    "    graph.remove_node(min_degree_node)\n",
    "    return graph"
   ]
  },
  {
   "cell_type": "code",
   "execution_count": 52,
   "id": "0ffe5aff",
   "metadata": {},
   "outputs": [],
   "source": [
    "def random_add_new_edge(graph):\n",
    "    node_num = graph.number_of_nodes()\n",
    "    node1 = random.randint(1,node_num)\n",
    "    node2 = random.randint(1,node_num)\n",
    "    while graph.has_edge(node1,node2) or node1 == node2 :\n",
    "        node1 = random.randint(1,node_num)\n",
    "        node2 = random.randint(1,node_num)\n",
    "    graph.add_edge(node1,node2)\n",
    "    return graph"
   ]
  },
  {
   "cell_type": "code",
   "execution_count": 46,
   "id": "b534165d",
   "metadata": {},
   "outputs": [],
   "source": [
    "def random_remove_edge(graph):\n",
    "    random_edge = random.choice(list(graph.edges()))\n",
    "    # Remove the randomly selected edge\n",
    "    graph.remove_edge(*random_edge)\n",
    "    return graph"
   ]
  },
  {
   "cell_type": "code",
   "execution_count": 88,
   "id": "c4977852",
   "metadata": {},
   "outputs": [],
   "source": [
    "def graph_generator(original_graph, node, edge,p):\n",
    "    new_graph = original_graph.copy()\n",
    "    if node < 0:\n",
    "        for i in range(abs(node)):\n",
    "            new_graph = remove_least_degree_node(new_graph)\n",
    "    elif node > 0:\n",
    "        for i in range(abs(node)):\n",
    "            new_graph = add_node_to_graph(new_graph,p)\n",
    "    \n",
    "    if edge < 0:\n",
    "        for i in range(abs(edge)):\n",
    "            new_graph = random_remove_edge(new_graph)\n",
    "    elif edge >0:\n",
    "        for i in range(abs(edge)):\n",
    "            new_graph = random_add_new_edge(new_graph)\n",
    "    return new_graph"
   ]
  },
  {
   "cell_type": "code",
   "execution_count": 108,
   "id": "760849ff",
   "metadata": {},
   "outputs": [
    {
     "data": {
      "text/plain": [
       "25.0"
      ]
     },
     "execution_count": 108,
     "metadata": {},
     "output_type": "execute_result"
    }
   ],
   "source": [
    "G = nx.star_graph(5)\n",
    "G1 = graph_generator(G,node = 5,edge = 0,p=0.5)\n",
    "\n",
    "\n",
    "graph_edit_distance(G,G1)\n",
    "\n",
    "\n",
    "\n"
   ]
  },
  {
   "cell_type": "code",
   "execution_count": 112,
   "id": "418bab94",
   "metadata": {},
   "outputs": [
    {
     "data": {
      "text/plain": [
       "25"
      ]
     },
     "execution_count": 112,
     "metadata": {},
     "output_type": "execute_result"
    }
   ],
   "source": [
    "edge = G1.number_of_edges()\n",
    "G2 = graph_generator(G1,node = -10,edge = 0,p = 0.5)\n",
    "graph_edit_distance(G1,G2)\n",
    "edge"
   ]
  },
  {
   "cell_type": "code",
   "execution_count": 15,
   "id": "34882567",
   "metadata": {},
   "outputs": [
    {
     "name": "stdout",
     "output_type": "stream",
     "text": [
      "-2 -2\n",
      "-2 -1\n",
      "-2 0\n",
      "-2 1\n",
      "-2 2\n",
      "-1 -2\n",
      "-1 2\n",
      "0 -2\n",
      "0 2\n",
      "1 -2\n",
      "1 2\n",
      "2 -2\n",
      "2 -1\n",
      "2 0\n",
      "2 1\n",
      "2 2\n"
     ]
    }
   ],
   "source": [
    "hop = 2\n",
    "\n",
    "for i in range(-hop,hop + 1):\n",
    "    for j in range(-hop,hop + 1):\n",
    "        if (i == -hop or i == hop or j == -hop or j == hop):\n",
    "            print(i,j)\n",
    "        "
   ]
  }
 ],
 "metadata": {
  "kernelspec": {
   "display_name": "Python 3 (ipykernel)",
   "language": "python",
   "name": "python3"
  },
  "language_info": {
   "codemirror_mode": {
    "name": "ipython",
    "version": 3
   },
   "file_extension": ".py",
   "mimetype": "text/x-python",
   "name": "python",
   "nbconvert_exporter": "python",
   "pygments_lexer": "ipython3",
   "version": "3.9.13"
  }
 },
 "nbformat": 4,
 "nbformat_minor": 5
}
