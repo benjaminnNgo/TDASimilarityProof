{
 "cells": [
  {
   "cell_type": "code",
   "execution_count": 5,
   "id": "2ef6c9a0",
   "metadata": {},
   "outputs": [
    {
     "name": "stdout",
     "output_type": "stream",
     "text": [
      "Before: 07:30\n",
      "LEEEEROYYY JENKINSSSSS!!!\n",
      "Received SIGALRM\n",
      "Gotcha!\n",
      "We're gonna need a bigger boat!\n",
      "After: 07:40\n"
     ]
    }
   ],
   "source": [
    "\n",
    "import signal\n",
    "import time\n",
    "\n",
    "def timeout_handler(num, stack):\n",
    "    print(\"Received SIGALRM\")\n",
    "    raise TimeoutError(\"Function took too long to execute\")\n",
    "\n",
    "def long_function():\n",
    "    print(\"LEEEEROYYY JENKINSSSSS!!!\")\n",
    "    time.sleep(60)\n",
    "\n",
    "signal.signal(signal.SIGALRM, timeout_handler)\n",
    "signal.alarm(10)\n",
    "\n",
    "try:\n",
    "    print(\"Before: %s\" % time.strftime(\"%M:%S\"))\n",
    "    long_function()\n",
    "except TimeoutError as ex:\n",
    "        print(\"Gotcha!\")\n",
    "        print(\"We're gonna need a bigger boat!\")\n",
    "finally:\n",
    "    signal.alarm(0)\n",
    "    print(\"After: %s\" % time.strftime(\"%M:%S\"))"
   ]
  }
 ],
 "metadata": {
  "kernelspec": {
   "display_name": "Python 3 (ipykernel)",
   "language": "python",
   "name": "python3"
  },
  "language_info": {
   "codemirror_mode": {
    "name": "ipython",
    "version": 3
   },
   "file_extension": ".py",
   "mimetype": "text/x-python",
   "name": "python",
   "nbconvert_exporter": "python",
   "pygments_lexer": "ipython3",
   "version": "3.10.9"
  }
 },
 "nbformat": 4,
 "nbformat_minor": 5
}
