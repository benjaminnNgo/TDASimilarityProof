{
 "cells": [
  {
   "cell_type": "code",
   "execution_count": 1,
   "id": "8665e5b6",
   "metadata": {},
   "outputs": [],
   "source": [
    "import numpy as np\n",
    "import networkx as nx\n",
    "import kmapper as km\n",
    "import sklearn\n",
    "import warnings\n",
    "import matplotlib.pyplot as plt\n",
    "import signal\n",
    "import time\n",
    "import random\n",
    "import pandas as pd\n",
    "import matplotlib.pyplot as plt\n",
    "from networkx.algorithms.similarity import graph_edit_distance\n",
    "warnings.filterwarnings(\"ignore\")\n"
   ]
  },
  {
   "cell_type": "code",
   "execution_count": 2,
   "id": "f5ca792e",
   "metadata": {},
   "outputs": [
    {
     "name": "stdout",
     "output_type": "stream",
     "text": [
      "0.20066022363647676\n"
     ]
    }
   ],
   "source": [
    "density_sum = 0\n",
    "for i in range(100):\n",
    "    n = random.randint(30,50)       \n",
    "    p = round(random.uniform(5, 40))/100\n",
    "    graph = nx.erdos_renyi_graph(n,p)\n",
    "    edge_density = nx.density(graph)\n",
    "    density_sum = density_sum + edge_density\n",
    "print(density_sum/100)"
   ]
  },
  {
   "cell_type": "code",
   "execution_count": 24,
   "id": "724fdb9e",
   "metadata": {},
   "outputs": [
    {
     "name": "stdout",
     "output_type": "stream",
     "text": [
      "0.21142802249063422\n"
     ]
    }
   ],
   "source": [
    "density_sum = 0\n",
    "for i in range(100):\n",
    "    n = random.randint(100,1000)       \n",
    "    m = random.randint(20,100)  \n",
    "    graph = nx.barabasi_albert_graph(n,m)\n",
    "    edge_density = nx.density(graph)\n",
    "    density_sum = density_sum + edge_density\n",
    "print(density_sum/100)"
   ]
  },
  {
   "cell_type": "code",
   "execution_count": 3,
   "id": "c42d1e4a",
   "metadata": {},
   "outputs": [],
   "source": [
    "def select_k(spectrum, minimum_energy = 0.9):\n",
    "    running_total = 0.0 \n",
    "    \n",
    "    total = sum(spectrum)\n",
    "    if total == 0.0:\n",
    "        return len(spectrum)\n",
    "    for i in range(len(spectrum)):\n",
    "        running_total += spectrum[i]\n",
    "        if running_total / total >= minimum_energy:\n",
    "            return i + 1\n",
    "    return len(spectrum)"
   ]
  },
  {
   "cell_type": "code",
   "execution_count": 4,
   "id": "d0fc2031",
   "metadata": {},
   "outputs": [],
   "source": [
    "def calculate_similarity(graph1,graph2):\n",
    "    laplacian1 = nx.spectrum.laplacian_spectrum(graph1)\n",
    "    laplacian2 = nx.spectrum.laplacian_spectrum(graph2)\n",
    "    \n",
    "    k1 = select_k(laplacian1)\n",
    "    k2 = select_k(laplacian2)\n",
    "    k = min(k1, k2) #k are different between the two graphs, then use the smaller one.\n",
    "    similarity = sum((laplacian1[:k] - laplacian2[:k])**2) #sum of the squared differences between the largest k eigenvalues\n",
    "    return similarity"
   ]
  },
  {
   "cell_type": "code",
   "execution_count": 5,
   "id": "625af73c",
   "metadata": {},
   "outputs": [],
   "source": [
    "def extract_graph_features(graph):\n",
    "    pr = nx.pagerank(graph,0.9)\n",
    "    dc = nx.degree_centrality(graph)\n",
    "    cc = nx.closeness_centrality(graph)\n",
    "    bx = nx.betweenness_centrality(graph)\n",
    "    c = nx.clustering(graph)\n",
    "    \n",
    "    #create list for each features\n",
    "    pr_list =  [i for i in pr.values()]\n",
    "    dc_list =  [i for i in dc.values()]\n",
    "    cc_list =  [i for i in cc.values()]\n",
    "    bx_list =  [i for i in bx.values()]\n",
    "    c_list =  [i for i in c.values()]\n",
    "    d_list = [val for (node, val) in graph.degree()]\n",
    "    data = np.column_stack((pr_list,dc_list,cc_list,bx_list,c_list,d_list))\n",
    "    return data"
   ]
  },
  {
   "cell_type": "code",
   "execution_count": 38,
   "id": "68972e55",
   "metadata": {},
   "outputs": [],
   "source": [
    "def TDA_transformation(data):\n",
    "    Xfilt = data\n",
    "    mapper = km.KeplerMapper()\n",
    "    scaler = sklearn.preprocessing.MinMaxScaler(feature_range=(0, 1))\n",
    "    Xfilt = scaler.fit_transform(Xfilt)\n",
    "    lens = mapper.fit_transform(Xfilt, projection=sklearn.manifold.TSNE())\n",
    "    cls = 5  # We use cls= 5\n",
    "\n",
    "    graph = mapper.map(lens,Xfilt,clusterer=sklearn.cluster.KMeans(n_clusters=cls,random_state=1618033),\n",
    "        cover=km.Cover(n_cubes=2, perc_overlap=0.3))\n",
    "    return km.to_nx(graph)"
   ]
  },
  {
   "cell_type": "code",
   "execution_count": 7,
   "id": "b794684b",
   "metadata": {},
   "outputs": [],
   "source": [
    "def calc_average_for_hop(hop,ref_graph,n,m,delta_n,delta_m):\n",
    "    sum_original = 0\n",
    "    sum_TDA = 0\n",
    "    counter = 0\n",
    "    for i in range(-hop,hop + 1):\n",
    "        for j in range(-hop,hop + 1):\n",
    "            if (i == -hop or i == hop or j == -hop or j == hop):\n",
    "                neighbour = nx.barabasi_albert_graph(i*delta_n + n,j*delta_m + m)\n",
    "                \n",
    "                TDA_graph = TDA_transformation(extract_graph_features(ref_graph))\n",
    "                TDA_neighbour = TDA_transformation(extract_graph_features(neighbour))\n",
    "                \n",
    "                score_TDA = calculate_similarity(TDA_graph, TDA_neighbour)\n",
    "                score_original = calculate_similarity(ref_graph, neighbour)\n",
    "                \n",
    "                sum_TDA += score_TDA\n",
    "                sum_original += score_original\n",
    "                counter += 1\n",
    "    return {\"hop:\" : hop,\"TDA\": sum_TDA/counter,\"original\": sum_original/counter}\n",
    "                "
   ]
  },
  {
   "cell_type": "code",
   "execution_count": 39,
   "id": "0843a16a",
   "metadata": {},
   "outputs": [
    {
     "data": {
      "text/plain": [
       "{'hop:': 1, 'TDA': 12.458732681046959, 'original': 23759.88216130994}"
      ]
     },
     "execution_count": 39,
     "metadata": {},
     "output_type": "execute_result"
    }
   ],
   "source": [
    "G = nx.barabasi_albert_graph(500,40)\n",
    "\n",
    "result = calc_average_for_hop(hop = 1,ref_graph = G,n = 500 ,m = 40,delta_n = 20,delta_m = 2)\n",
    "result"
   ]
  },
  {
   "cell_type": "code",
   "execution_count": 41,
   "id": "bc351d97",
   "metadata": {},
   "outputs": [
    {
     "data": {
      "text/plain": [
       "{'hop:': 2, 'TDA': 13.6398323185634, 'original': 61956.625988129956}"
      ]
     },
     "execution_count": 41,
     "metadata": {},
     "output_type": "execute_result"
    }
   ],
   "source": [
    "result = calc_average_for_hop(hop = 2,ref_graph = G,n = 500 ,m = 40,delta_n = 20,delta_m = 2)\n",
    "result"
   ]
  },
  {
   "cell_type": "code",
   "execution_count": 40,
   "id": "d68aa9f1",
   "metadata": {},
   "outputs": [
    {
     "data": {
      "text/plain": [
       "{'hop:': 3, 'TDA': 12.972616491242531, 'original': 102565.94898328323}"
      ]
     },
     "execution_count": 40,
     "metadata": {},
     "output_type": "execute_result"
    }
   ],
   "source": [
    "result = calc_average_for_hop(hop = 3,ref_graph = G,n = 500 ,m = 40,delta_n = 20,delta_m = 2)\n",
    "result"
   ]
  },
  {
   "cell_type": "code",
   "execution_count": 8,
   "id": "2ee4eb2e",
   "metadata": {},
   "outputs": [],
   "source": [
    "def conduct_test_for_on_graph(graph,n,m,delta_n,delta_m,n_hop):\n",
    "    result = [dict() for x in range(n_hop)]\n",
    "    for i in range(n_hop):\n",
    "        result[i] = calc_average_for_hop(hop =i+1,ref_graph = graph,n = n,m = m,delta_n = delta_n,delta_m = delta_m)\n",
    "    return {\"n\" : n,\"m\" : m,\"Result\" : result}"
   ]
  },
  {
   "cell_type": "code",
   "execution_count": 27,
   "id": "07b6cad8",
   "metadata": {},
   "outputs": [
    {
     "data": {
      "text/plain": [
       "{'n': 500,\n",
       " 'm': 40,\n",
       " 'Result': [{'hop:': 1,\n",
       "   'TDA': 18.61392285221701,\n",
       "   'original': 23721.22924576037},\n",
       "  {'hop:': 2, 'TDA': 21.14043669364562, 'original': 61882.00364342045},\n",
       "  {'hop:': 3, 'TDA': 16.72674970178139, 'original': 103977.26346753829},\n",
       "  {'hop:': 4, 'TDA': 15.74436024355239, 'original': 149055.66861489086}]}"
      ]
     },
     "execution_count": 27,
     "metadata": {},
     "output_type": "execute_result"
    }
   ],
   "source": [
    "G = nx.barabasi_albert_graph(500,40)\n",
    "\n",
    "result = conduct_test_for_on_graph(G,500,40,20,2,4)\n",
    "result"
   ]
  },
  {
   "cell_type": "code",
   "execution_count": 9,
   "id": "645db5f2",
   "metadata": {},
   "outputs": [],
   "source": [
    "def conduct_test_on_sample(sample_numbers,n_hop):\n",
    "    column = []\n",
    "    row_list = []\n",
    "    column.append('n')\n",
    "    column.append('m')\n",
    "    \n",
    "    for i in range(n_hop):\n",
    "        original_text = \"Original_\"\n",
    "        TDA_text = \"TDA_\"\n",
    "        original_text = original_text + str(i+1)\n",
    "        TDA_text = TDA_text + str(i+1)\n",
    "        column.append(original_text)\n",
    "        column.append(TDA_text)\n",
    "        \n",
    "    for i in range(sample_numbers):\n",
    "        row =[]\n",
    "        n = random.randint(100,1000)       \n",
    "        m = random.randint(20,100) \n",
    "        row.append(n)\n",
    "        row.append(m)\n",
    "        reference_graph = nx.barabasi_albert_graph(n,m)\n",
    "        result = conduct_test_for_on_graph(reference_graph,n,m,20,2,n_hop)['Result']\n",
    "\n",
    "        for j in range(n_hop):\n",
    "            row.append(result[j]['original'])\n",
    "            row.append(result[j]['TDA'])\n",
    "        row_list.append(row)\n",
    "        print(\"Done:\" + str(i+1) + \"/\" +  str(sample_numbers))\n",
    "       \n",
    "    df = pd.DataFrame(row_list,columns= column)\n",
    "    return df\n",
    "        "
   ]
  },
  {
   "cell_type": "code",
   "execution_count": 19,
   "id": "c70b516a",
   "metadata": {},
   "outputs": [
    {
     "name": "stdout",
     "output_type": "stream",
     "text": [
      "Done:1/5\n",
      "Done:2/5\n",
      "Done:3/5\n",
      "Done:4/5\n",
      "Done:5/5\n"
     ]
    }
   ],
   "source": [
    "df_result = conduct_test_on_sample(10,4)"
   ]
  },
  {
   "cell_type": "code",
   "execution_count": 28,
   "id": "6e8b0b4b",
   "metadata": {},
   "outputs": [
    {
     "data": {
      "text/html": [
       "<div>\n",
       "<style scoped>\n",
       "    .dataframe tbody tr th:only-of-type {\n",
       "        vertical-align: middle;\n",
       "    }\n",
       "\n",
       "    .dataframe tbody tr th {\n",
       "        vertical-align: top;\n",
       "    }\n",
       "\n",
       "    .dataframe thead th {\n",
       "        text-align: right;\n",
       "    }\n",
       "</style>\n",
       "<table border=\"1\" class=\"dataframe\">\n",
       "  <thead>\n",
       "    <tr style=\"text-align: right;\">\n",
       "      <th></th>\n",
       "      <th>Unnamed: 0</th>\n",
       "      <th>n</th>\n",
       "      <th>m</th>\n",
       "      <th>Original_1</th>\n",
       "      <th>TDA_1</th>\n",
       "      <th>Original_2</th>\n",
       "      <th>TDA_2</th>\n",
       "      <th>Original_3</th>\n",
       "      <th>TDA_3</th>\n",
       "      <th>Original_4</th>\n",
       "      <th>TDA_4</th>\n",
       "    </tr>\n",
       "  </thead>\n",
       "  <tbody>\n",
       "    <tr>\n",
       "      <th>0</th>\n",
       "      <td>0</td>\n",
       "      <td>226</td>\n",
       "      <td>48</td>\n",
       "      <td>10880.028100</td>\n",
       "      <td>139.879134</td>\n",
       "      <td>26386.23250</td>\n",
       "      <td>85.444643</td>\n",
       "      <td>37891.61669</td>\n",
       "      <td>123.521368</td>\n",
       "      <td>46356.66734</td>\n",
       "      <td>127.890986</td>\n",
       "    </tr>\n",
       "    <tr>\n",
       "      <th>1</th>\n",
       "      <td>1</td>\n",
       "      <td>437</td>\n",
       "      <td>41</td>\n",
       "      <td>22493.425410</td>\n",
       "      <td>144.254516</td>\n",
       "      <td>50205.00750</td>\n",
       "      <td>98.895260</td>\n",
       "      <td>83205.28783</td>\n",
       "      <td>104.498546</td>\n",
       "      <td>118503.14860</td>\n",
       "      <td>121.092264</td>\n",
       "    </tr>\n",
       "    <tr>\n",
       "      <th>2</th>\n",
       "      <td>2</td>\n",
       "      <td>824</td>\n",
       "      <td>78</td>\n",
       "      <td>51541.183060</td>\n",
       "      <td>80.935962</td>\n",
       "      <td>150082.77080</td>\n",
       "      <td>124.146473</td>\n",
       "      <td>262704.52690</td>\n",
       "      <td>124.827673</td>\n",
       "      <td>378277.45130</td>\n",
       "      <td>131.044749</td>\n",
       "    </tr>\n",
       "    <tr>\n",
       "      <th>3</th>\n",
       "      <td>3</td>\n",
       "      <td>467</td>\n",
       "      <td>64</td>\n",
       "      <td>26560.884340</td>\n",
       "      <td>166.642215</td>\n",
       "      <td>74478.18234</td>\n",
       "      <td>92.457681</td>\n",
       "      <td>128463.73450</td>\n",
       "      <td>108.535164</td>\n",
       "      <td>173138.07170</td>\n",
       "      <td>140.551643</td>\n",
       "    </tr>\n",
       "    <tr>\n",
       "      <th>4</th>\n",
       "      <td>4</td>\n",
       "      <td>943</td>\n",
       "      <td>54</td>\n",
       "      <td>44786.692540</td>\n",
       "      <td>109.254895</td>\n",
       "      <td>122411.47840</td>\n",
       "      <td>82.479900</td>\n",
       "      <td>218886.24320</td>\n",
       "      <td>172.861223</td>\n",
       "      <td>328062.52740</td>\n",
       "      <td>97.699487</td>\n",
       "    </tr>\n",
       "    <tr>\n",
       "      <th>5</th>\n",
       "      <td>5</td>\n",
       "      <td>452</td>\n",
       "      <td>38</td>\n",
       "      <td>22981.452340</td>\n",
       "      <td>191.069703</td>\n",
       "      <td>55928.05915</td>\n",
       "      <td>151.619948</td>\n",
       "      <td>90001.64883</td>\n",
       "      <td>182.091404</td>\n",
       "      <td>128862.79430</td>\n",
       "      <td>103.365338</td>\n",
       "    </tr>\n",
       "    <tr>\n",
       "      <th>6</th>\n",
       "      <td>6</td>\n",
       "      <td>943</td>\n",
       "      <td>36</td>\n",
       "      <td>33977.825060</td>\n",
       "      <td>158.346510</td>\n",
       "      <td>92899.21394</td>\n",
       "      <td>189.070092</td>\n",
       "      <td>173703.15710</td>\n",
       "      <td>165.930776</td>\n",
       "      <td>273001.02800</td>\n",
       "      <td>173.473408</td>\n",
       "    </tr>\n",
       "    <tr>\n",
       "      <th>7</th>\n",
       "      <td>7</td>\n",
       "      <td>806</td>\n",
       "      <td>43</td>\n",
       "      <td>34733.411300</td>\n",
       "      <td>91.048700</td>\n",
       "      <td>90717.04480</td>\n",
       "      <td>95.571747</td>\n",
       "      <td>164956.40800</td>\n",
       "      <td>113.135641</td>\n",
       "      <td>250479.97650</td>\n",
       "      <td>95.732624</td>\n",
       "    </tr>\n",
       "    <tr>\n",
       "      <th>8</th>\n",
       "      <td>8</td>\n",
       "      <td>787</td>\n",
       "      <td>36</td>\n",
       "      <td>32771.869090</td>\n",
       "      <td>161.302751</td>\n",
       "      <td>81649.26892</td>\n",
       "      <td>158.212398</td>\n",
       "      <td>151632.18620</td>\n",
       "      <td>133.357446</td>\n",
       "      <td>230942.67950</td>\n",
       "      <td>153.106965</td>\n",
       "    </tr>\n",
       "    <tr>\n",
       "      <th>9</th>\n",
       "      <td>9</td>\n",
       "      <td>367</td>\n",
       "      <td>82</td>\n",
       "      <td>21493.000200</td>\n",
       "      <td>262.630168</td>\n",
       "      <td>54655.87778</td>\n",
       "      <td>148.977399</td>\n",
       "      <td>93272.75682</td>\n",
       "      <td>135.511843</td>\n",
       "      <td>126947.40440</td>\n",
       "      <td>186.028492</td>\n",
       "    </tr>\n",
       "    <tr>\n",
       "      <th>10</th>\n",
       "      <td>10</td>\n",
       "      <td>415</td>\n",
       "      <td>96</td>\n",
       "      <td>25585.852580</td>\n",
       "      <td>332.584822</td>\n",
       "      <td>70302.81051</td>\n",
       "      <td>244.860716</td>\n",
       "      <td>124223.39090</td>\n",
       "      <td>228.851487</td>\n",
       "      <td>174004.80970</td>\n",
       "      <td>302.230609</td>\n",
       "    </tr>\n",
       "    <tr>\n",
       "      <th>11</th>\n",
       "      <td>11</td>\n",
       "      <td>449</td>\n",
       "      <td>96</td>\n",
       "      <td>26391.970030</td>\n",
       "      <td>271.747946</td>\n",
       "      <td>78106.43309</td>\n",
       "      <td>204.181501</td>\n",
       "      <td>139424.69200</td>\n",
       "      <td>234.735757</td>\n",
       "      <td>198885.51370</td>\n",
       "      <td>259.508865</td>\n",
       "    </tr>\n",
       "    <tr>\n",
       "      <th>12</th>\n",
       "      <td>12</td>\n",
       "      <td>760</td>\n",
       "      <td>91</td>\n",
       "      <td>51524.344440</td>\n",
       "      <td>204.705319</td>\n",
       "      <td>144244.28690</td>\n",
       "      <td>180.253256</td>\n",
       "      <td>270027.29120</td>\n",
       "      <td>201.582845</td>\n",
       "      <td>388412.71060</td>\n",
       "      <td>149.854967</td>\n",
       "    </tr>\n",
       "    <tr>\n",
       "      <th>13</th>\n",
       "      <td>13</td>\n",
       "      <td>706</td>\n",
       "      <td>63</td>\n",
       "      <td>41506.505730</td>\n",
       "      <td>245.398055</td>\n",
       "      <td>110771.65010</td>\n",
       "      <td>174.612082</td>\n",
       "      <td>193318.17320</td>\n",
       "      <td>123.249823</td>\n",
       "      <td>269448.97610</td>\n",
       "      <td>147.470323</td>\n",
       "    </tr>\n",
       "    <tr>\n",
       "      <th>14</th>\n",
       "      <td>14</td>\n",
       "      <td>181</td>\n",
       "      <td>63</td>\n",
       "      <td>6876.239674</td>\n",
       "      <td>180.916846</td>\n",
       "      <td>17790.36784</td>\n",
       "      <td>166.966951</td>\n",
       "      <td>28255.13483</td>\n",
       "      <td>97.850787</td>\n",
       "      <td>39851.41119</td>\n",
       "      <td>147.337277</td>\n",
       "    </tr>\n",
       "    <tr>\n",
       "      <th>15</th>\n",
       "      <td>15</td>\n",
       "      <td>396</td>\n",
       "      <td>48</td>\n",
       "      <td>21436.207530</td>\n",
       "      <td>89.377284</td>\n",
       "      <td>52924.43803</td>\n",
       "      <td>74.810451</td>\n",
       "      <td>82881.94045</td>\n",
       "      <td>123.762154</td>\n",
       "      <td>114392.48740</td>\n",
       "      <td>123.152145</td>\n",
       "    </tr>\n",
       "    <tr>\n",
       "      <th>16</th>\n",
       "      <td>16</td>\n",
       "      <td>247</td>\n",
       "      <td>78</td>\n",
       "      <td>9859.786224</td>\n",
       "      <td>386.359003</td>\n",
       "      <td>27881.77187</td>\n",
       "      <td>250.282888</td>\n",
       "      <td>45912.67360</td>\n",
       "      <td>235.899613</td>\n",
       "      <td>64284.20707</td>\n",
       "      <td>181.889080</td>\n",
       "    </tr>\n",
       "    <tr>\n",
       "      <th>17</th>\n",
       "      <td>17</td>\n",
       "      <td>884</td>\n",
       "      <td>21</td>\n",
       "      <td>25517.230990</td>\n",
       "      <td>126.816030</td>\n",
       "      <td>68770.10731</td>\n",
       "      <td>147.895320</td>\n",
       "      <td>136872.86810</td>\n",
       "      <td>141.595915</td>\n",
       "      <td>211329.96210</td>\n",
       "      <td>148.109611</td>\n",
       "    </tr>\n",
       "    <tr>\n",
       "      <th>18</th>\n",
       "      <td>18</td>\n",
       "      <td>884</td>\n",
       "      <td>55</td>\n",
       "      <td>42140.381990</td>\n",
       "      <td>193.442579</td>\n",
       "      <td>122020.53670</td>\n",
       "      <td>90.596799</td>\n",
       "      <td>214649.93000</td>\n",
       "      <td>136.201432</td>\n",
       "      <td>316942.27000</td>\n",
       "      <td>119.286692</td>\n",
       "    </tr>\n",
       "    <tr>\n",
       "      <th>19</th>\n",
       "      <td>19</td>\n",
       "      <td>476</td>\n",
       "      <td>76</td>\n",
       "      <td>27072.786490</td>\n",
       "      <td>149.011279</td>\n",
       "      <td>79618.78305</td>\n",
       "      <td>166.207563</td>\n",
       "      <td>138337.72910</td>\n",
       "      <td>99.504791</td>\n",
       "      <td>189093.08780</td>\n",
       "      <td>120.050171</td>\n",
       "    </tr>\n",
       "  </tbody>\n",
       "</table>\n",
       "</div>"
      ],
      "text/plain": [
       "    Unnamed: 0    n   m    Original_1       TDA_1    Original_2       TDA_2  \\\n",
       "0            0  226  48  10880.028100  139.879134   26386.23250   85.444643   \n",
       "1            1  437  41  22493.425410  144.254516   50205.00750   98.895260   \n",
       "2            2  824  78  51541.183060   80.935962  150082.77080  124.146473   \n",
       "3            3  467  64  26560.884340  166.642215   74478.18234   92.457681   \n",
       "4            4  943  54  44786.692540  109.254895  122411.47840   82.479900   \n",
       "5            5  452  38  22981.452340  191.069703   55928.05915  151.619948   \n",
       "6            6  943  36  33977.825060  158.346510   92899.21394  189.070092   \n",
       "7            7  806  43  34733.411300   91.048700   90717.04480   95.571747   \n",
       "8            8  787  36  32771.869090  161.302751   81649.26892  158.212398   \n",
       "9            9  367  82  21493.000200  262.630168   54655.87778  148.977399   \n",
       "10          10  415  96  25585.852580  332.584822   70302.81051  244.860716   \n",
       "11          11  449  96  26391.970030  271.747946   78106.43309  204.181501   \n",
       "12          12  760  91  51524.344440  204.705319  144244.28690  180.253256   \n",
       "13          13  706  63  41506.505730  245.398055  110771.65010  174.612082   \n",
       "14          14  181  63   6876.239674  180.916846   17790.36784  166.966951   \n",
       "15          15  396  48  21436.207530   89.377284   52924.43803   74.810451   \n",
       "16          16  247  78   9859.786224  386.359003   27881.77187  250.282888   \n",
       "17          17  884  21  25517.230990  126.816030   68770.10731  147.895320   \n",
       "18          18  884  55  42140.381990  193.442579  122020.53670   90.596799   \n",
       "19          19  476  76  27072.786490  149.011279   79618.78305  166.207563   \n",
       "\n",
       "      Original_3       TDA_3    Original_4       TDA_4  \n",
       "0    37891.61669  123.521368   46356.66734  127.890986  \n",
       "1    83205.28783  104.498546  118503.14860  121.092264  \n",
       "2   262704.52690  124.827673  378277.45130  131.044749  \n",
       "3   128463.73450  108.535164  173138.07170  140.551643  \n",
       "4   218886.24320  172.861223  328062.52740   97.699487  \n",
       "5    90001.64883  182.091404  128862.79430  103.365338  \n",
       "6   173703.15710  165.930776  273001.02800  173.473408  \n",
       "7   164956.40800  113.135641  250479.97650   95.732624  \n",
       "8   151632.18620  133.357446  230942.67950  153.106965  \n",
       "9    93272.75682  135.511843  126947.40440  186.028492  \n",
       "10  124223.39090  228.851487  174004.80970  302.230609  \n",
       "11  139424.69200  234.735757  198885.51370  259.508865  \n",
       "12  270027.29120  201.582845  388412.71060  149.854967  \n",
       "13  193318.17320  123.249823  269448.97610  147.470323  \n",
       "14   28255.13483   97.850787   39851.41119  147.337277  \n",
       "15   82881.94045  123.762154  114392.48740  123.152145  \n",
       "16   45912.67360  235.899613   64284.20707  181.889080  \n",
       "17  136872.86810  141.595915  211329.96210  148.109611  \n",
       "18  214649.93000  136.201432  316942.27000  119.286692  \n",
       "19  138337.72910   99.504791  189093.08780  120.050171  "
      ]
     },
     "execution_count": 28,
     "metadata": {},
     "output_type": "execute_result"
    }
   ],
   "source": [
    "df_result = pd.read_csv(\"30_sample_graphs-BA_large.csv\")\n",
    "df_result"
   ]
  },
  {
   "cell_type": "code",
   "execution_count": 21,
   "id": "5f8078cb",
   "metadata": {},
   "outputs": [],
   "source": [
    "df_result.to_csv(\"30_sample_graphs-BA_part_2.csv\")"
   ]
  },
  {
   "cell_type": "code",
   "execution_count": 29,
   "id": "86489a96",
   "metadata": {},
   "outputs": [],
   "source": [
    "original_average =[]\n",
    "TDA_avaerage = []\n",
    "for i in range(4):\n",
    "    original_text = \"Original_\" + str(i+1)\n",
    "    TDA_text = \"TDA_\" + str(i+1)\n",
    "    original_list = df_result[original_text].tolist()\n",
    "    tda_list = df_result[TDA_text].tolist()\n",
    "    original_sum = 0\n",
    "    tda_sum = 0\n",
    "    for j in range(len(original_list)):\n",
    "        original_sum = original_sum + original_list[j]\n",
    "        tda_sum = tda_sum + tda_list[j]\n",
    "    original_average.append(round(original_sum/len(original_list),2))\n",
    "    TDA_avaerage.append(round(tda_sum/len(tda_list),2))\n",
    "    "
   ]
  },
  {
   "cell_type": "code",
   "execution_count": 35,
   "id": "7abcedd3",
   "metadata": {},
   "outputs": [
    {
     "data": {
      "text/plain": [
       "[29006.55, 78592.22, 138931.07, 201060.86]"
      ]
     },
     "execution_count": 35,
     "metadata": {},
     "output_type": "execute_result"
    }
   ],
   "source": [
    "original_average"
   ]
  },
  {
   "cell_type": "code",
   "execution_count": 33,
   "id": "88ec1abd",
   "metadata": {},
   "outputs": [
    {
     "data": {
      "text/plain": [
       "[184.29, 146.38, 149.38, 151.44]"
      ]
     },
     "execution_count": 33,
     "metadata": {},
     "output_type": "execute_result"
    }
   ],
   "source": [
    "TDA_avaerage"
   ]
  },
  {
   "cell_type": "code",
   "execution_count": 36,
   "id": "9911eb2f",
   "metadata": {},
   "outputs": [
    {
     "data": {
      "image/png": "[encoded data removed]",
      "text/plain": [
       "<Figure size 640x480 with 1 Axes>"
      ]
     },
     "metadata": {},
     "output_type": "display_data"
    }
   ],
   "source": [
    "hop = ['1','2','3','4']\n",
    "plt.plot(hop, original_average,linewidth=2, markersize=12)\n",
    "plt.title('Original graphs similarity score average')\n",
    "plt.xlabel('Hop')\n",
    "plt.ylabel('Average similarity score')\n",
    "plt.savefig(\"original-BA.jpg\")\n",
    "plt.show()"
   ]
  },
  {
   "cell_type": "code",
   "execution_count": 37,
   "id": "69091708",
   "metadata": {},
   "outputs": [
    {
     "data": {
      "image/png": "[encoded data removed]",
      "text/plain": [
       "<Figure size 640x480 with 1 Axes>"
      ]
     },
     "metadata": {},
     "output_type": "display_data"
    }
   ],
   "source": [
    "plt.plot(hop, TDA_avaerage,linewidth=2, markersize=12,color='red')\n",
    "plt.title('TDA graphs similarity score average')\n",
    "plt.xlabel('Hop')\n",
    "plt.ylabel('Average similarity score')\n",
    "plt.savefig(\"TDA-BA.jpg\")\n",
    "plt.show()"
   ]
  }
 ],
 "metadata": {
  "kernelspec": {
   "display_name": "Python 3 (ipykernel)",
   "language": "python",
   "name": "python3"
  },
  "language_info": {
   "codemirror_mode": {
    "name": "ipython",
    "version": 3
   },
   "file_extension": ".py",
   "mimetype": "text/x-python",
   "name": "python",
   "nbconvert_exporter": "python",
   "pygments_lexer": "ipython3",
   "version": "3.9.13"
  }
 },
 "nbformat": 4,
 "nbformat_minor": 5
}
