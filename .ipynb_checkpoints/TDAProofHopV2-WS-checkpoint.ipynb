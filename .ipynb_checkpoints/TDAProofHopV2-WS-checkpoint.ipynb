{
 "cells": [
  {
   "cell_type": "code",
   "execution_count": 1,
   "id": "4edd8c24",
   "metadata": {},
   "outputs": [],
   "source": [
    "import numpy as np\n",
    "import networkx as nx\n",
    "import kmapper as km\n",
    "import sklearn\n",
    "import warnings\n",
    "import matplotlib.pyplot as plt\n",
    "import signal\n",
    "import time\n",
    "import random\n",
    "import pandas as pd\n",
    "import matplotlib.pyplot as plt\n",
    "from networkx.algorithms.similarity import graph_edit_distance\n",
    "warnings.filterwarnings(\"ignore\")\n"
   ]
  },
  {
   "cell_type": "code",
   "execution_count": 19,
   "id": "d5ee9e14",
   "metadata": {},
   "outputs": [
    {
     "name": "stdout",
     "output_type": "stream",
     "text": [
      "0.2118801220701632\n"
     ]
    }
   ],
   "source": [
    "density_sum = 0\n",
    "for i in range(100):\n",
    "    n = random.randint(30,100)       \n",
    "    p = round(random.uniform(5, 70))/100\n",
    "    graph = nx.watts_strogatz_graph(n,8,p)\n",
    "    edge_density = nx.density(graph)\n",
    "    density_sum = density_sum + edge_density\n",
    "print(density_sum/100)"
   ]
  },
  {
   "cell_type": "code",
   "execution_count": 13,
   "id": "115fd7ad",
   "metadata": {},
   "outputs": [
    {
     "data": {
      "text/plain": [
       "30"
      ]
     },
     "execution_count": 13,
     "metadata": {},
     "output_type": "execute_result"
    }
   ],
   "source": [
    "graph = nx.watts_strogatz_graph(30,2,0.5)\n",
    "graph.number_of_nodes()"
   ]
  },
  {
   "cell_type": "code",
   "execution_count": 2,
   "id": "715e3ad4",
   "metadata": {},
   "outputs": [],
   "source": [
    "def select_k(spectrum, minimum_energy = 0.9):\n",
    "    running_total = 0.0 \n",
    "    \n",
    "    total = sum(spectrum)\n",
    "    if total == 0.0:\n",
    "        return len(spectrum)\n",
    "    for i in range(len(spectrum)):\n",
    "        running_total += spectrum[i]\n",
    "        if running_total / total >= minimum_energy:\n",
    "            return i + 1\n",
    "    return len(spectrum)"
   ]
  },
  {
   "cell_type": "code",
   "execution_count": 3,
   "id": "b20ecc50",
   "metadata": {},
   "outputs": [],
   "source": [
    "def calculate_similarity(graph1,graph2):\n",
    "    laplacian1 = nx.spectrum.laplacian_spectrum(graph1)\n",
    "    laplacian2 = nx.spectrum.laplacian_spectrum(graph2)\n",
    "    \n",
    "    k1 = select_k(laplacian1)\n",
    "    k2 = select_k(laplacian2)\n",
    "    k = min(k1, k2) #k are different between the two graphs, then use the smaller one.\n",
    "    similarity = sum((laplacian1[:k] - laplacian2[:k])**2) #sum of the squared differences between the largest k eigenvalues\n",
    "    return similarity"
   ]
  },
  {
   "cell_type": "code",
   "execution_count": 4,
   "id": "f58c2fc9",
   "metadata": {},
   "outputs": [],
   "source": [
    "def extract_graph_features(graph):\n",
    "    pr = nx.pagerank(graph,0.9)\n",
    "    dc = nx.degree_centrality(graph)\n",
    "    cc = nx.closeness_centrality(graph)\n",
    "    bx = nx.betweenness_centrality(graph)\n",
    "    c = nx.clustering(graph)\n",
    "    \n",
    "    #create list for each features\n",
    "    pr_list =  [i for i in pr.values()]\n",
    "    dc_list =  [i for i in dc.values()]\n",
    "    cc_list =  [i for i in cc.values()]\n",
    "    bx_list =  [i for i in bx.values()]\n",
    "    c_list =  [i for i in c.values()]\n",
    "    d_list = [val for (node, val) in graph.degree()]\n",
    "    data = np.column_stack((pr_list,dc_list,cc_list,bx_list,c_list,d_list))\n",
    "    return data"
   ]
  },
  {
   "cell_type": "code",
   "execution_count": 5,
   "id": "0ab491a5",
   "metadata": {},
   "outputs": [],
   "source": [
    "def TDA_transformation(data):\n",
    "    Xfilt = data\n",
    "    mapper = km.KeplerMapper()\n",
    "    scaler = sklearn.preprocessing.MinMaxScaler(feature_range=(0, 1))\n",
    "    Xfilt = scaler.fit_transform(Xfilt)\n",
    "    lens = mapper.fit_transform(Xfilt, projection=sklearn.manifold.TSNE())\n",
    "    cls = 2  # We use cls= 5\n",
    "\n",
    "    graph = mapper.map(lens,Xfilt,clusterer=sklearn.cluster.KMeans(n_clusters=cls,random_state=1618033),\n",
    "        cover=km.Cover(n_cubes=2, perc_overlap=0.3))\n",
    "    return km.to_nx(graph)"
   ]
  },
  {
   "cell_type": "code",
   "execution_count": 6,
   "id": "e4de23e5",
   "metadata": {},
   "outputs": [],
   "source": [
    "def calc_average_for_hop(hop,ref_graph,n,p,k,delta_n,delta_p):\n",
    "    sum_original = 0\n",
    "    sum_TDA = 0\n",
    "    counter = 0\n",
    "    for i in range(-hop,hop + 1):\n",
    "        for j in range(-hop,hop + 1):\n",
    "            if (i == -hop or i == hop or j == -hop or j == hop):\n",
    "                neighbour = nx.watts_strogatz_graph(i*delta_n + n,k,j*delta_p + p)\n",
    "                \n",
    "                TDA_graph = TDA_transformation(extract_graph_features(ref_graph))\n",
    "                TDA_neighbour = TDA_transformation(extract_graph_features(neighbour))\n",
    "                \n",
    "                score_TDA = calculate_similarity(TDA_graph, TDA_neighbour)\n",
    "                score_original = calculate_similarity(ref_graph, neighbour)\n",
    "                \n",
    "                sum_TDA += score_TDA\n",
    "                sum_original += score_original\n",
    "                counter += 1\n",
    "    return {\"hop:\" : hop,\"TDA\": sum_TDA/counter,\"original\": sum_original/counter}\n",
    "                "
   ]
  },
  {
   "cell_type": "code",
   "execution_count": 7,
   "id": "c58f97b6",
   "metadata": {},
   "outputs": [],
   "source": [
    "def conduct_test_for_on_graph(graph,n,k,p,delta_n,delta_p,n_hop):\n",
    "    result = [dict() for x in range(n_hop)]\n",
    "    for i in range(n_hop):\n",
    "        result[i] = calc_average_for_hop(hop =i+1,ref_graph = graph,n = n,k = k,p=p,delta_n = delta_n,delta_p = delta_p)\n",
    "    return {\"n\" : n,\"k\" : k,\"p\":p,\"Result\" : result}"
   ]
  },
  {
   "cell_type": "code",
   "execution_count": 8,
   "id": "8ae90d02",
   "metadata": {},
   "outputs": [],
   "source": [
    "def conduct_test_on_sample(sample_numbers,n_hop):\n",
    "    column = []\n",
    "    row_list = []\n",
    "    column.append('n')\n",
    "    column.append('k')\n",
    "    column.append('p')\n",
    "\n",
    "    \n",
    "    for i in range(n_hop):\n",
    "        original_text = \"Original_\"\n",
    "        TDA_text = \"TDA_\"\n",
    "        original_text = original_text + str(i+1)\n",
    "        TDA_text = TDA_text + str(i+1)\n",
    "        column.append(original_text)\n",
    "        column.append(TDA_text)\n",
    "        \n",
    "    for i in range(sample_numbers):\n",
    "        row =[]\n",
    "        n = random.randint(30,100)       \n",
    "        p = round(random.uniform(21, 80))/100\n",
    "        k = random.randint(3,10)\n",
    "        row.append(n)\n",
    "        row.append(k)\n",
    "        row.append(p)\n",
    "        reference_graph = nx.watts_strogatz_graph(n,k,p)\n",
    "        result = conduct_test_for_on_graph(reference_graph,n,k,p,2,0.05,n_hop)['Result']\n",
    "\n",
    "        for j in range(n_hop):\n",
    "            row.append(result[j]['original'])\n",
    "            row.append(result[j]['TDA'])\n",
    "        row_list.append(row)\n",
    "       \n",
    "    df = pd.DataFrame(row_list,columns= column)\n",
    "    return df"
   ]
  },
  {
   "cell_type": "code",
   "execution_count": null,
   "id": "b1b992ef",
   "metadata": {},
   "outputs": [
    {
     "name": "stderr",
     "output_type": "stream",
     "text": [
      "ERROR:root:Internal Python error in the inspect module.\n",
      "Below is the traceback from this internal error.\n",
      "\n"
     ]
    },
    {
     "name": "stdout",
     "output_type": "stream",
     "text": [
      "Traceback (most recent call last):\n",
      "  File \"D:\\Anaconda\\lib\\site-packages\\IPython\\core\\interactiveshell.py\", line 3457, in run_code\n",
      "    exec(code_obj, self.user_global_ns, self.user_ns)\n",
      "  File \"C:\\Users\\ACER\\AppData\\Local\\Temp\\ipykernel_20800\\684604902.py\", line 1, in <module>\n",
      "    result = conduct_test_on_sample(30,4)\n",
      "  File \"C:\\Users\\ACER\\AppData\\Local\\Temp\\ipykernel_20800\\1762891649.py\", line 26, in conduct_test_on_sample\n",
      "    result = conduct_test_for_on_graph(reference_graph,n,k,p,2,0.05,n_hop)['Result']\n",
      "  File \"C:\\Users\\ACER\\AppData\\Local\\Temp\\ipykernel_20800\\2055275948.py\", line 4, in conduct_test_for_on_graph\n",
      "    result[i] = calc_average_for_hop(hop =i+1,ref_graph = graph,n = n,k = k,p=p,delta_n = delta_n,delta_p = delta_p)\n",
      "  File \"C:\\Users\\ACER\\AppData\\Local\\Temp\\ipykernel_20800\\2163891264.py\", line 11, in calc_average_for_hop\n",
      "    TDA_neighbour = TDA_transformation(extract_graph_features(neighbour))\n",
      "  File \"C:\\Users\\ACER\\AppData\\Local\\Temp\\ipykernel_20800\\2313561523.py\", line 9, in TDA_transformation\n",
      "    graph = mapper.map(lens,Xfilt,clusterer=sklearn.cluster.KMeans(n_clusters=cls,random_state=1618033),\n",
      "  File \"D:\\Anaconda\\lib\\site-packages\\kmapper\\kmapper.py\", line 541, in map\n",
      "    cluster_predictions = clusterer.fit_predict(fit_data)\n",
      "  File \"D:\\Anaconda\\lib\\site-packages\\sklearn\\cluster\\_kmeans.py\", line 1255, in fit_predict\n",
      "    return self.fit(X, sample_weight=sample_weight).labels_\n",
      "  File \"D:\\Anaconda\\lib\\site-packages\\sklearn\\cluster\\_kmeans.py\", line 1186, in fit\n",
      "    labels, inertia, centers, n_iter_ = kmeans_single(\n",
      "  File \"D:\\Anaconda\\lib\\site-packages\\sklearn\\cluster\\_kmeans.py\", line 469, in _kmeans_single_elkan\n",
      "    init_bounds(X, centers, center_half_distances, labels, upper_bounds, lower_bounds)\n",
      "KeyboardInterrupt\n",
      "\n",
      "During handling of the above exception, another exception occurred:\n",
      "\n",
      "Traceback (most recent call last):\n",
      "  File \"D:\\Anaconda\\lib\\site-packages\\IPython\\core\\interactiveshell.py\", line 2077, in showtraceback\n",
      "    stb = value._render_traceback_()\n",
      "AttributeError: 'KeyboardInterrupt' object has no attribute '_render_traceback_'\n",
      "\n",
      "During handling of the above exception, another exception occurred:\n",
      "\n",
      "Traceback (most recent call last):\n",
      "  File \"D:\\Anaconda\\lib\\site-packages\\IPython\\core\\ultratb.py\", line 1101, in get_records\n",
      "    return _fixed_getinnerframes(etb, number_of_lines_of_context, tb_offset)\n",
      "  File \"D:\\Anaconda\\lib\\site-packages\\IPython\\core\\ultratb.py\", line 248, in wrapped\n",
      "    return f(*args, **kwargs)\n",
      "  File \"D:\\Anaconda\\lib\\site-packages\\IPython\\core\\ultratb.py\", line 281, in _fixed_getinnerframes\n",
      "    records = fix_frame_records_filenames(inspect.getinnerframes(etb, context))\n",
      "  File \"D:\\Anaconda\\lib\\inspect.py\", line 1543, in getinnerframes\n",
      "    frameinfo = (tb.tb_frame,) + getframeinfo(tb, context)\n",
      "  File \"D:\\Anaconda\\lib\\inspect.py\", line 1501, in getframeinfo\n",
      "    filename = getsourcefile(frame) or getfile(frame)\n",
      "  File \"D:\\Anaconda\\lib\\inspect.py\", line 709, in getsourcefile\n",
      "    if getattr(getmodule(object, filename), '__loader__', None) is not None:\n",
      "  File \"D:\\Anaconda\\lib\\inspect.py\", line 752, in getmodule\n",
      "    f = getabsfile(module)\n",
      "  File \"D:\\Anaconda\\lib\\inspect.py\", line 721, in getabsfile\n",
      "    _filename = getsourcefile(object) or getfile(object)\n",
      "  File \"D:\\Anaconda\\lib\\inspect.py\", line 706, in getsourcefile\n",
      "    if os.path.exists(filename):\n",
      "  File \"D:\\Anaconda\\lib\\genericpath.py\", line 19, in exists\n",
      "    os.stat(path)\n",
      "KeyboardInterrupt\n"
     ]
    },
    {
     "name": "stderr",
     "output_type": "stream",
     "text": [
      "ERROR:root:Internal Python error in the inspect module.\n",
      "Below is the traceback from this internal error.\n",
      "\n"
     ]
    },
    {
     "name": "stdout",
     "output_type": "stream",
     "text": [
      "Traceback (most recent call last):\n",
      "  File \"D:\\Anaconda\\lib\\site-packages\\IPython\\core\\interactiveshell.py\", line 3457, in run_code\n",
      "    exec(code_obj, self.user_global_ns, self.user_ns)\n",
      "  File \"C:\\Users\\ACER\\AppData\\Local\\Temp\\ipykernel_20800\\684604902.py\", line 1, in <module>\n",
      "    result = conduct_test_on_sample(30,4)\n",
      "  File \"C:\\Users\\ACER\\AppData\\Local\\Temp\\ipykernel_20800\\1762891649.py\", line 26, in conduct_test_on_sample\n",
      "    result = conduct_test_for_on_graph(reference_graph,n,k,p,2,0.05,n_hop)['Result']\n",
      "  File \"C:\\Users\\ACER\\AppData\\Local\\Temp\\ipykernel_20800\\2055275948.py\", line 4, in conduct_test_for_on_graph\n",
      "    result[i] = calc_average_for_hop(hop =i+1,ref_graph = graph,n = n,k = k,p=p,delta_n = delta_n,delta_p = delta_p)\n",
      "  File \"C:\\Users\\ACER\\AppData\\Local\\Temp\\ipykernel_20800\\2163891264.py\", line 11, in calc_average_for_hop\n",
      "    TDA_neighbour = TDA_transformation(extract_graph_features(neighbour))\n",
      "  File \"C:\\Users\\ACER\\AppData\\Local\\Temp\\ipykernel_20800\\2313561523.py\", line 9, in TDA_transformation\n",
      "    graph = mapper.map(lens,Xfilt,clusterer=sklearn.cluster.KMeans(n_clusters=cls,random_state=1618033),\n",
      "  File \"D:\\Anaconda\\lib\\site-packages\\kmapper\\kmapper.py\", line 541, in map\n",
      "    cluster_predictions = clusterer.fit_predict(fit_data)\n",
      "  File \"D:\\Anaconda\\lib\\site-packages\\sklearn\\cluster\\_kmeans.py\", line 1255, in fit_predict\n",
      "    return self.fit(X, sample_weight=sample_weight).labels_\n",
      "  File \"D:\\Anaconda\\lib\\site-packages\\sklearn\\cluster\\_kmeans.py\", line 1186, in fit\n",
      "    labels, inertia, centers, n_iter_ = kmeans_single(\n",
      "  File \"D:\\Anaconda\\lib\\site-packages\\sklearn\\cluster\\_kmeans.py\", line 469, in _kmeans_single_elkan\n",
      "    init_bounds(X, centers, center_half_distances, labels, upper_bounds, lower_bounds)\n",
      "KeyboardInterrupt\n",
      "\n",
      "During handling of the above exception, another exception occurred:\n",
      "\n",
      "Traceback (most recent call last):\n",
      "  File \"D:\\Anaconda\\lib\\site-packages\\IPython\\core\\interactiveshell.py\", line 2077, in showtraceback\n",
      "    stb = value._render_traceback_()\n",
      "AttributeError: 'KeyboardInterrupt' object has no attribute '_render_traceback_'\n",
      "\n",
      "During handling of the above exception, another exception occurred:\n",
      "\n",
      "Traceback (most recent call last):\n",
      "  File \"D:\\Anaconda\\lib\\site-packages\\IPython\\core\\interactiveshell.py\", line 3377, in run_ast_nodes\n",
      "    if (await self.run_code(code, result,  async_=asy)):\n",
      "  File \"D:\\Anaconda\\lib\\site-packages\\IPython\\core\\interactiveshell.py\", line 3474, in run_code\n",
      "    self.showtraceback(running_compiled_code=True)\n",
      "  File \"D:\\Anaconda\\lib\\site-packages\\IPython\\core\\interactiveshell.py\", line 2079, in showtraceback\n",
      "    stb = self.InteractiveTB.structured_traceback(etype,\n",
      "  File \"D:\\Anaconda\\lib\\site-packages\\IPython\\core\\ultratb.py\", line 1367, in structured_traceback\n",
      "    return FormattedTB.structured_traceback(\n",
      "  File \"D:\\Anaconda\\lib\\site-packages\\IPython\\core\\ultratb.py\", line 1267, in structured_traceback\n",
      "    return VerboseTB.structured_traceback(\n",
      "  File \"D:\\Anaconda\\lib\\site-packages\\IPython\\core\\ultratb.py\", line 1124, in structured_traceback\n",
      "    formatted_exception = self.format_exception_as_a_whole(etype, evalue, etb, number_of_lines_of_context,\n",
      "  File \"D:\\Anaconda\\lib\\site-packages\\IPython\\core\\ultratb.py\", line 1082, in format_exception_as_a_whole\n",
      "    last_unique, recursion_repeat = find_recursion(orig_etype, evalue, records)\n",
      "  File \"D:\\Anaconda\\lib\\site-packages\\IPython\\core\\ultratb.py\", line 382, in find_recursion\n",
      "    return len(records), 0\n",
      "TypeError: object of type 'NoneType' has no len()\n",
      "\n",
      "During handling of the above exception, another exception occurred:\n",
      "\n",
      "Traceback (most recent call last):\n",
      "  File \"D:\\Anaconda\\lib\\site-packages\\IPython\\core\\interactiveshell.py\", line 2077, in showtraceback\n",
      "    stb = value._render_traceback_()\n",
      "AttributeError: 'TypeError' object has no attribute '_render_traceback_'\n",
      "\n",
      "During handling of the above exception, another exception occurred:\n",
      "\n",
      "Traceback (most recent call last):\n",
      "  File \"D:\\Anaconda\\lib\\site-packages\\IPython\\core\\ultratb.py\", line 1101, in get_records\n",
      "    return _fixed_getinnerframes(etb, number_of_lines_of_context, tb_offset)\n",
      "  File \"D:\\Anaconda\\lib\\site-packages\\IPython\\core\\ultratb.py\", line 248, in wrapped\n",
      "    return f(*args, **kwargs)\n",
      "  File \"D:\\Anaconda\\lib\\site-packages\\IPython\\core\\ultratb.py\", line 281, in _fixed_getinnerframes\n",
      "    records = fix_frame_records_filenames(inspect.getinnerframes(etb, context))\n",
      "  File \"D:\\Anaconda\\lib\\inspect.py\", line 1543, in getinnerframes\n",
      "    frameinfo = (tb.tb_frame,) + getframeinfo(tb, context)\n",
      "  File \"D:\\Anaconda\\lib\\inspect.py\", line 1501, in getframeinfo\n",
      "    filename = getsourcefile(frame) or getfile(frame)\n",
      "  File \"D:\\Anaconda\\lib\\inspect.py\", line 709, in getsourcefile\n",
      "    if getattr(getmodule(object, filename), '__loader__', None) is not None:\n",
      "  File \"D:\\Anaconda\\lib\\inspect.py\", line 752, in getmodule\n",
      "    f = getabsfile(module)\n",
      "  File \"D:\\Anaconda\\lib\\inspect.py\", line 721, in getabsfile\n",
      "    _filename = getsourcefile(object) or getfile(object)\n",
      "  File \"D:\\Anaconda\\lib\\inspect.py\", line 706, in getsourcefile\n",
      "    if os.path.exists(filename):\n",
      "  File \"D:\\Anaconda\\lib\\genericpath.py\", line 19, in exists\n",
      "    os.stat(path)\n",
      "KeyboardInterrupt\n"
     ]
    },
    {
     "name": "stderr",
     "output_type": "stream",
     "text": [
      "ERROR:root:Internal Python error in the inspect module.\n",
      "Below is the traceback from this internal error.\n",
      "\n"
     ]
    },
    {
     "name": "stdout",
     "output_type": "stream",
     "text": [
      "Traceback (most recent call last):\n",
      "  File \"D:\\Anaconda\\lib\\site-packages\\IPython\\core\\interactiveshell.py\", line 3457, in run_code\n",
      "    exec(code_obj, self.user_global_ns, self.user_ns)\n",
      "  File \"C:\\Users\\ACER\\AppData\\Local\\Temp\\ipykernel_20800\\684604902.py\", line 1, in <module>\n",
      "    result = conduct_test_on_sample(30,4)\n",
      "  File \"C:\\Users\\ACER\\AppData\\Local\\Temp\\ipykernel_20800\\1762891649.py\", line 26, in conduct_test_on_sample\n",
      "    result = conduct_test_for_on_graph(reference_graph,n,k,p,2,0.05,n_hop)['Result']\n",
      "  File \"C:\\Users\\ACER\\AppData\\Local\\Temp\\ipykernel_20800\\2055275948.py\", line 4, in conduct_test_for_on_graph\n",
      "    result[i] = calc_average_for_hop(hop =i+1,ref_graph = graph,n = n,k = k,p=p,delta_n = delta_n,delta_p = delta_p)\n",
      "  File \"C:\\Users\\ACER\\AppData\\Local\\Temp\\ipykernel_20800\\2163891264.py\", line 11, in calc_average_for_hop\n",
      "    TDA_neighbour = TDA_transformation(extract_graph_features(neighbour))\n",
      "  File \"C:\\Users\\ACER\\AppData\\Local\\Temp\\ipykernel_20800\\2313561523.py\", line 9, in TDA_transformation\n",
      "    graph = mapper.map(lens,Xfilt,clusterer=sklearn.cluster.KMeans(n_clusters=cls,random_state=1618033),\n",
      "  File \"D:\\Anaconda\\lib\\site-packages\\kmapper\\kmapper.py\", line 541, in map\n",
      "    cluster_predictions = clusterer.fit_predict(fit_data)\n",
      "  File \"D:\\Anaconda\\lib\\site-packages\\sklearn\\cluster\\_kmeans.py\", line 1255, in fit_predict\n",
      "    return self.fit(X, sample_weight=sample_weight).labels_\n",
      "  File \"D:\\Anaconda\\lib\\site-packages\\sklearn\\cluster\\_kmeans.py\", line 1186, in fit\n",
      "    labels, inertia, centers, n_iter_ = kmeans_single(\n",
      "  File \"D:\\Anaconda\\lib\\site-packages\\sklearn\\cluster\\_kmeans.py\", line 469, in _kmeans_single_elkan\n",
      "    init_bounds(X, centers, center_half_distances, labels, upper_bounds, lower_bounds)\n",
      "KeyboardInterrupt\n",
      "\n",
      "During handling of the above exception, another exception occurred:\n",
      "\n",
      "Traceback (most recent call last):\n",
      "  File \"D:\\Anaconda\\lib\\site-packages\\IPython\\core\\interactiveshell.py\", line 2077, in showtraceback\n",
      "    stb = value._render_traceback_()\n",
      "AttributeError: 'KeyboardInterrupt' object has no attribute '_render_traceback_'\n",
      "\n",
      "During handling of the above exception, another exception occurred:\n",
      "\n",
      "Traceback (most recent call last):\n",
      "  File \"D:\\Anaconda\\lib\\site-packages\\IPython\\core\\interactiveshell.py\", line 3377, in run_ast_nodes\n",
      "    if (await self.run_code(code, result,  async_=asy)):\n",
      "  File \"D:\\Anaconda\\lib\\site-packages\\IPython\\core\\interactiveshell.py\", line 3474, in run_code\n",
      "    self.showtraceback(running_compiled_code=True)\n",
      "  File \"D:\\Anaconda\\lib\\site-packages\\IPython\\core\\interactiveshell.py\", line 2079, in showtraceback\n",
      "    stb = self.InteractiveTB.structured_traceback(etype,\n",
      "  File \"D:\\Anaconda\\lib\\site-packages\\IPython\\core\\ultratb.py\", line 1367, in structured_traceback\n",
      "    return FormattedTB.structured_traceback(\n",
      "  File \"D:\\Anaconda\\lib\\site-packages\\IPython\\core\\ultratb.py\", line 1267, in structured_traceback\n",
      "    return VerboseTB.structured_traceback(\n",
      "  File \"D:\\Anaconda\\lib\\site-packages\\IPython\\core\\ultratb.py\", line 1124, in structured_traceback\n",
      "    formatted_exception = self.format_exception_as_a_whole(etype, evalue, etb, number_of_lines_of_context,\n",
      "  File \"D:\\Anaconda\\lib\\site-packages\\IPython\\core\\ultratb.py\", line 1082, in format_exception_as_a_whole\n",
      "    last_unique, recursion_repeat = find_recursion(orig_etype, evalue, records)\n",
      "  File \"D:\\Anaconda\\lib\\site-packages\\IPython\\core\\ultratb.py\", line 382, in find_recursion\n",
      "    return len(records), 0\n",
      "TypeError: object of type 'NoneType' has no len()\n",
      "\n",
      "During handling of the above exception, another exception occurred:\n",
      "\n",
      "Traceback (most recent call last):\n",
      "  File \"D:\\Anaconda\\lib\\site-packages\\IPython\\core\\interactiveshell.py\", line 2077, in showtraceback\n",
      "    stb = value._render_traceback_()\n",
      "AttributeError: 'TypeError' object has no attribute '_render_traceback_'\n",
      "\n",
      "During handling of the above exception, another exception occurred:\n",
      "\n",
      "Traceback (most recent call last):\n",
      "  File \"D:\\Anaconda\\lib\\site-packages\\IPython\\core\\interactiveshell.py\", line 2960, in _run_cell\n",
      "    return runner(coro)\n",
      "  File \"D:\\Anaconda\\lib\\site-packages\\IPython\\core\\async_helpers.py\", line 78, in _pseudo_sync_runner\n",
      "    coro.send(None)\n",
      "  File \"D:\\Anaconda\\lib\\site-packages\\IPython\\core\\interactiveshell.py\", line 3185, in run_cell_async\n",
      "    has_raised = await self.run_ast_nodes(code_ast.body, cell_name,\n",
      "  File \"D:\\Anaconda\\lib\\site-packages\\IPython\\core\\interactiveshell.py\", line 3396, in run_ast_nodes\n",
      "    self.showtraceback()\n",
      "  File \"D:\\Anaconda\\lib\\site-packages\\IPython\\core\\interactiveshell.py\", line 2079, in showtraceback\n",
      "    stb = self.InteractiveTB.structured_traceback(etype,\n",
      "  File \"D:\\Anaconda\\lib\\site-packages\\IPython\\core\\ultratb.py\", line 1367, in structured_traceback\n",
      "    return FormattedTB.structured_traceback(\n",
      "  File \"D:\\Anaconda\\lib\\site-packages\\IPython\\core\\ultratb.py\", line 1267, in structured_traceback\n",
      "    return VerboseTB.structured_traceback(\n",
      "  File \"D:\\Anaconda\\lib\\site-packages\\IPython\\core\\ultratb.py\", line 1142, in structured_traceback\n",
      "    formatted_exceptions += self.format_exception_as_a_whole(etype, evalue, etb, lines_of_context,\n",
      "  File \"D:\\Anaconda\\lib\\site-packages\\IPython\\core\\ultratb.py\", line 1082, in format_exception_as_a_whole\n",
      "    last_unique, recursion_repeat = find_recursion(orig_etype, evalue, records)\n",
      "  File \"D:\\Anaconda\\lib\\site-packages\\IPython\\core\\ultratb.py\", line 382, in find_recursion\n",
      "    return len(records), 0\n",
      "TypeError: object of type 'NoneType' has no len()\n",
      "\n",
      "During handling of the above exception, another exception occurred:\n",
      "\n",
      "Traceback (most recent call last):\n",
      "  File \"D:\\Anaconda\\lib\\site-packages\\IPython\\core\\interactiveshell.py\", line 2077, in showtraceback\n",
      "    stb = value._render_traceback_()\n",
      "AttributeError: 'TypeError' object has no attribute '_render_traceback_'\n",
      "\n",
      "During handling of the above exception, another exception occurred:\n",
      "\n",
      "Traceback (most recent call last):\n",
      "  File \"D:\\Anaconda\\lib\\site-packages\\IPython\\core\\ultratb.py\", line 1101, in get_records\n",
      "    return _fixed_getinnerframes(etb, number_of_lines_of_context, tb_offset)\n",
      "  File \"D:\\Anaconda\\lib\\site-packages\\IPython\\core\\ultratb.py\", line 248, in wrapped\n",
      "    return f(*args, **kwargs)\n",
      "  File \"D:\\Anaconda\\lib\\site-packages\\IPython\\core\\ultratb.py\", line 281, in _fixed_getinnerframes\n",
      "    records = fix_frame_records_filenames(inspect.getinnerframes(etb, context))\n",
      "  File \"D:\\Anaconda\\lib\\inspect.py\", line 1543, in getinnerframes\n",
      "    frameinfo = (tb.tb_frame,) + getframeinfo(tb, context)\n",
      "  File \"D:\\Anaconda\\lib\\inspect.py\", line 1501, in getframeinfo\n",
      "    filename = getsourcefile(frame) or getfile(frame)\n",
      "  File \"D:\\Anaconda\\lib\\inspect.py\", line 709, in getsourcefile\n",
      "    if getattr(getmodule(object, filename), '__loader__', None) is not None:\n",
      "  File \"D:\\Anaconda\\lib\\inspect.py\", line 752, in getmodule\n",
      "    f = getabsfile(module)\n",
      "  File \"D:\\Anaconda\\lib\\inspect.py\", line 721, in getabsfile\n",
      "    _filename = getsourcefile(object) or getfile(object)\n",
      "  File \"D:\\Anaconda\\lib\\inspect.py\", line 706, in getsourcefile\n",
      "    if os.path.exists(filename):\n",
      "  File \"D:\\Anaconda\\lib\\genericpath.py\", line 19, in exists\n",
      "    os.stat(path)\n",
      "KeyboardInterrupt\n"
     ]
    }
   ],
   "source": [
    "result = conduct_test_on_sample(30,4)\n",
    "result"
   ]
  },
  {
   "cell_type": "code",
   "execution_count": 78,
   "id": "18fa6ca7",
   "metadata": {},
   "outputs": [
    {
     "data": {
      "text/plain": [
       "{'n': 34,\n",
       " 'k': 8,\n",
       " 'p': 0.72,\n",
       " 'Result': [{'hop:': 1,\n",
       "   'TDA': 3.3108622181353238,\n",
       "   'original': 5.9378151772311885}]}"
      ]
     },
     "execution_count": 78,
     "metadata": {},
     "output_type": "execute_result"
    }
   ],
   "source": [
    "n_test = random.randint(30,50)       \n",
    "p_test = round(random.uniform(5, 80))/100\n",
    "k_test = random.randint(3,10)\n",
    "graph1 = nx.watts_strogatz_graph(n_test,k_test,p_test)\n",
    "test_result = conduct_test_for_on_graph(graph1,n_test,k_test,p_test,2,0.05,1)\n",
    "test_result"
   ]
  },
  {
   "cell_type": "code",
   "execution_count": 28,
   "id": "e4bf3652",
   "metadata": {},
   "outputs": [
    {
     "name": "stdout",
     "output_type": "stream",
     "text": [
      "671\n"
     ]
    }
   ],
   "source": [
    "n = random.randint(100,1000)       \n",
    "p = round(random.uniform(21, 80))/100\n",
    "k = random.randint(5,8)\n",
    "graph = nx.watts_strogatz_graph(n,k,p)\n",
    "print(n)"
   ]
  },
  {
   "cell_type": "code",
   "execution_count": 20,
   "id": "48700e4e",
   "metadata": {},
   "outputs": [
    {
     "data": {
      "text/plain": [
       "{'n': 318,\n",
       " 'k': 7,\n",
       " 'p': 0.36,\n",
       " 'Result': [{'hop:': 1,\n",
       "   'TDA': 24.99813513145942,\n",
       "   'original': 28.039196127848214}]}"
      ]
     },
     "execution_count": 20,
     "metadata": {},
     "output_type": "execute_result"
    }
   ],
   "source": [
    "test_result = conduct_test_for_on_graph(graph,n,k,p,20,0.05,1)\n",
    "test_result"
   ]
  },
  {
   "cell_type": "code",
   "execution_count": 30,
   "id": "81d0db08",
   "metadata": {},
   "outputs": [
    {
     "data": {
      "text/plain": [
       "{'n': 671,\n",
       " 'k': 6,\n",
       " 'p': 0.54,\n",
       " 'Result': [{'hop:': 1,\n",
       "   'TDA': 8.437656561699049,\n",
       "   'original': 19.02264468555197},\n",
       "  {'hop:': 2, 'TDA': 16.708679421440138, 'original': 61.402120480828565},\n",
       "  {'hop:': 3, 'TDA': 12.701243296737077, 'original': 123.09836319108081},\n",
       "  {'hop:': 4, 'TDA': 13.996194737053548, 'original': 204.77714646441194}]}"
      ]
     },
     "execution_count": 30,
     "metadata": {},
     "output_type": "execute_result"
    }
   ],
   "source": [
    "test_result = conduct_test_for_on_graph(graph,n,k,p,20,0.05,4)\n",
    "test_result"
   ]
  }
 ],
 "metadata": {
  "kernelspec": {
   "display_name": "Python 3 (ipykernel)",
   "language": "python",
   "name": "python3"
  },
  "language_info": {
   "codemirror_mode": {
    "name": "ipython",
    "version": 3
   },
   "file_extension": ".py",
   "mimetype": "text/x-python",
   "name": "python",
   "nbconvert_exporter": "python",
   "pygments_lexer": "ipython3",
   "version": "3.9.13"
  }
 },
 "nbformat": 4,
 "nbformat_minor": 5
}
