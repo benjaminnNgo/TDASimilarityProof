{
 "cells": [
  {
   "cell_type": "code",
   "execution_count": 13,
   "id": "cb8e4d2b",
   "metadata": {},
   "outputs": [],
   "source": [
    "import networkx as nx\n",
    "import random"
   ]
  },
  {
   "cell_type": "code",
   "execution_count": 15,
   "id": "f7b14329",
   "metadata": {},
   "outputs": [],
   "source": [
    "def add_node_to_graph(graph,p):\n",
    "    new_node = graph.number_of_nodes() + 1\n",
    "    graph.add_node(new_node)\n",
    "    existing_nodes = list(graph.nodes())[:-1]  # Exclude the new node\n",
    "    for existing_node in existing_nodes:\n",
    "        if random.random() < p:  \n",
    "            graph.add_edge(new_node, existing_node)\n",
    "    return graph\n",
    "    "
   ]
  },
  {
   "cell_type": "code",
   "execution_count": 29,
   "id": "35f82b49",
   "metadata": {},
   "outputs": [],
   "source": [
    "def remove_least_degree_node(graph):\n",
    "    degrees = graph.degree()\n",
    "    min_degree_node = min(degrees, key=lambda x: x[1])[0]\n",
    "    # Remove the node with the minimum degree\n",
    "    graph.remove_node(min_degree_node)\n",
    "    return graph"
   ]
  },
  {
   "cell_type": "code",
   "execution_count": 30,
   "id": "3a04786a",
   "metadata": {},
   "outputs": [],
   "source": [
    "def random_add_new_edge(graph):\n",
    "    node_num = graph.number_of_nodes()\n",
    "    node1 = random.randint(1,node_num)\n",
    "    node2 = random.randint(1,node_num)\n",
    "    while graph.has_edge(node1,node2) or node1 == node2 :\n",
    "        node1 = random.randint(1,node_num)\n",
    "        node2 = random.randint(1,node_num)\n",
    "    graph.add_edge(node1,node2)\n",
    "    return graph"
   ]
  },
  {
   "cell_type": "code",
   "execution_count": 32,
   "id": "b8dbc35e",
   "metadata": {},
   "outputs": [],
   "source": [
    "def random_remove_edge(graph):\n",
    "    random_edge = random.choice(list(graph.edges()))\n",
    "    # Remove the randomly selected edge\n",
    "    graph.remove_edge(*random_edge)\n",
    "    return graph"
   ]
  },
  {
   "cell_type": "code",
   "execution_count": 37,
   "id": "d42dd5ad",
   "metadata": {},
   "outputs": [
    {
     "data": {
      "text/plain": [
       "29"
      ]
     },
     "execution_count": 37,
     "metadata": {},
     "output_type": "execute_result"
    }
   ],
   "source": [
    "g1 = nx.erdos_renyi_graph(30,0.5)\n",
    "g2 = remove_least_degree_node(g1)\n",
    "g2 = remove_least_degree_node(g1)\n",
    "g2 = remove_least_degree_node(g1)\n",
    "g2 = remove_least_degree_node(g1)\n",
    "g2.number_of_nodes()\n"
   ]
  },
  {
   "cell_type": "code",
   "execution_count": 40,
   "id": "8952654c",
   "metadata": {},
   "outputs": [
    {
     "data": {
      "text/plain": [
       "0.0"
      ]
     },
     "execution_count": 40,
     "metadata": {},
     "output_type": "execute_result"
    }
   ],
   "source": [
    "score = nx.graph_edit_distance(g1,g2)\n",
    "score"
   ]
  }
 ],
 "metadata": {
  "kernelspec": {
   "display_name": "Python 3 (ipykernel)",
   "language": "python",
   "name": "python3"
  },
  "language_info": {
   "codemirror_mode": {
    "name": "ipython",
    "version": 3
   },
   "file_extension": ".py",
   "mimetype": "text/x-python",
   "name": "python",
   "nbconvert_exporter": "python",
   "pygments_lexer": "ipython3",
   "version": "3.9.13"
  }
 },
 "nbformat": 4,
 "nbformat_minor": 5
}
