{
 "cells": [
  {
   "cell_type": "code",
   "execution_count": 1,
   "id": "8d88506d",
   "metadata": {},
   "outputs": [],
   "source": [
    "import numpy as np\n",
    "import networkx as nx\n",
    "import kmapper as km\n",
    "import sklearn\n",
    "import warnings\n",
    "import matplotlib.pyplot as plt\n",
    "import signal\n",
    "import time\n",
    "import random\n",
    "\n",
    "\n",
    "warnings.filterwarnings(\"ignore\")"
   ]
  },
  {
   "cell_type": "markdown",
   "id": "1f89a84c",
   "metadata": {},
   "source": [
    "# Graph Similarity & TDA\n",
    "**Author**: Bao Ngo\n",
    "\n",
    "**Last updated** : 30 May\n",
    "\n",
    "**Abstract**: Compare the similariry scores of 2 graphs before applying TDA transformation and after applying TDA method\n",
    "\n",
    "**Description**: \n",
    "- `Similarity score` is calculated by implementing algorithm that can by find in this paper: https://www.cs.cmu.edu/~jingx/docs/DBreport.pdf\n",
    "\n",
    "- Similarity test is conducted by compare the simmilarity score between 2 graphs before and after apply TDA method in the sample of graphs generating using `Erdos Renyl(ER) Model`\n",
    "\n",
    "\n",
    "\n"
   ]
  },
  {
   "cell_type": "markdown",
   "id": "220641f5",
   "metadata": {},
   "source": [
    "# Similarity score methods"
   ]
  },
  {
   "cell_type": "markdown",
   "id": "d589d00f",
   "metadata": {},
   "source": [
    "**Find the smallest k such that the sum of the k largest eigenvalues constitutes at least 90% of the sum of all of the eigenvalues**"
   ]
  },
  {
   "cell_type": "code",
   "execution_count": 2,
   "id": "ce93f020",
   "metadata": {},
   "outputs": [],
   "source": [
    "def select_k(spectrum, minimum_energy = 0.9):\n",
    "    running_total = 0.0 \n",
    "    \n",
    "    total = sum(spectrum)\n",
    "    if total == 0.0:\n",
    "        return len(spectrum)\n",
    "    for i in range(len(spectrum)):\n",
    "        running_total += spectrum[i]\n",
    "        if running_total / total >= minimum_energy:\n",
    "            return i + 1\n",
    "    return len(spectrum)"
   ]
  },
  {
   "cell_type": "markdown",
   "id": "f967dbca",
   "metadata": {},
   "source": [
    "**Method to calculate similarity score between 2 graphs**"
   ]
  },
  {
   "cell_type": "code",
   "execution_count": 3,
   "id": "0fc4a9b1",
   "metadata": {},
   "outputs": [],
   "source": [
    "def calculate_similarity(graph1,graph2):\n",
    "    laplacian1 = nx.spectrum.laplacian_spectrum(graph1)\n",
    "    laplacian2 = nx.spectrum.laplacian_spectrum(graph2)\n",
    "    \n",
    "    k1 = select_k(laplacian1)\n",
    "    k2 = select_k(laplacian2)\n",
    "    k = min(k1, k2) #k are different between the two graphs, then use the smaller one.\n",
    "    similarity = sum((laplacian1[:k] - laplacian2[:k])**2) #sum of the squared differences between the largest k eigenvalues\n",
    "    return similarity\n"
   ]
  },
  {
   "cell_type": "markdown",
   "id": "67e8610c",
   "metadata": {},
   "source": [
    "# TDA methods"
   ]
  },
  {
   "cell_type": "markdown",
   "id": "d6639f29",
   "metadata": {},
   "source": [
    "**Create data for TDA method by extracting 5 node features:**\n",
    " - `Pagerank`\n",
    " - `Degree centrality`\n",
    " - `Closeness centrality`\n",
    " - `Betweenes centrality `\n",
    " - `Clustering`\n"
   ]
  },
  {
   "cell_type": "code",
   "execution_count": 4,
   "id": "2f086df9",
   "metadata": {},
   "outputs": [],
   "source": [
    "def extract_graph_features(graph):\n",
    "    pr = nx.pagerank(graph,0.9)\n",
    "    dc = nx.degree_centrality(graph)\n",
    "    cc = nx.closeness_centrality(graph)\n",
    "    bx = nx.betweenness_centrality(graph)\n",
    "    c = nx.clustering(graph)\n",
    "    \n",
    "    #create list for each features\n",
    "    pr_list =  [i for i in pr.values()]\n",
    "    dc_list =  [i for i in dc.values()]\n",
    "    cc_list =  [i for i in cc.values()]\n",
    "    bx_list =  [i for i in bx.values()]\n",
    "    c_list =  [i for i in c.values()]\n",
    "    d_list = [val for (node, val) in graph.degree()]\n",
    "    data = np.column_stack((pr_list,dc_list,cc_list,bx_list,c_list,d_list))\n",
    "    return data"
   ]
  },
  {
   "cell_type": "markdown",
   "id": "a68ca00f",
   "metadata": {},
   "source": [
    "**TDA tramsformation method, which take in graph represent data,extracting from each graph, and return a new graph**"
   ]
  },
  {
   "cell_type": "code",
   "execution_count": 33,
   "id": "eb1bb616",
   "metadata": {},
   "outputs": [],
   "source": [
    "def TDA_transformation(data):\n",
    "    Xfilt = data\n",
    "    mapper = km.KeplerMapper()\n",
    "    scaler = sklearn.preprocessing.MinMaxScaler(feature_range=(0, 1))\n",
    "    Xfilt = scaler.fit_transform(Xfilt)\n",
    "    lens = mapper.fit_transform(Xfilt, projection=sklearn.manifold.TSNE())\n",
    "    cls = 5  # We use cls= 5\n",
    "\n",
    "    graph = mapper.map(lens,Xfilt,clusterer=sklearn.cluster.KMeans(n_clusters=cls,random_state=1618033),\n",
    "        cover=km.Cover(n_cubes=5, perc_overlap=0.1))\n",
    "    return km.to_nx(graph)"
   ]
  },
  {
   "cell_type": "markdown",
   "id": "b8392f1e",
   "metadata": {},
   "source": [
    "# Similarity test on TDA methods\n",
    "**Method to conduct test similarity test on 2 graph**\n",
    "\n",
    "*This method will return `true` if graphs after TDA transformation are more similar*"
   ]
  },
  {
   "cell_type": "code",
   "execution_count": 6,
   "id": "79730322",
   "metadata": {},
   "outputs": [],
   "source": [
    "def is_TDA_capture_better(learning_graph, neighbour_graph):\n",
    "    isBetter = False\n",
    "    original_similarity_score = calculate_similarity(learning_graph,neighbour_graph)\n",
    "    TDA_learning_graph = TDA_transformation(extract_graph_features(learning_graph))\n",
    "    TDA_neighbour_graph = TDA_transformation(extract_graph_features(neighbour_graph))\n",
    "    TDA_similarity_score = calculate_similarity(TDA_learning_graph,TDA_neighbour_graph)\n",
    "    if(TDA_similarity_score < original_similarity_score ): isBetter = True\n",
    "    return isBetter"
   ]
  },
  {
   "cell_type": "markdown",
   "id": "08fc33ca",
   "metadata": {},
   "source": [
    "**Method to conduct similarity test for each graph and their neighbour in the sample of graphs generating by using `ER model`**\n",
    "\n",
    "*This method will return the fraction between the case that similarity score of two graphs after applying TDA transformation is `higher` and the total of similarity tests*"
   ]
  },
  {
   "cell_type": "code",
   "execution_count": 7,
   "id": "0f4e0168",
   "metadata": {},
   "outputs": [],
   "source": [
    "def compare_similarity_TDA_graph(n_low_bound,n_upper_bound,n_step, p_low_bound,p_upper_bound,p_step ):\n",
    "    case_TDA_better = 0\n",
    "    total_cases = 0\n",
    "    n_range_length = round((n_upper_bound - n_low_bound)/n_step) + 1\n",
    "    p_range_length = round((p_upper_bound - p_low_bound)/p_step) + 1\n",
    "    \n",
    "    for i in range(p_range_length):\n",
    "        for j in range(n_range_length):\n",
    "            n = n_low_bound + n_step*j\n",
    "            p = p_low_bound + p_step*i\n",
    "            target_graph = nx.erdos_renyi_graph(n,p)\n",
    "            #Compare current graph with neighbour graphs\n",
    "            if(i-1 >=0):\n",
    "                p_neighbour = p_low_bound + p_step*(i-1)\n",
    "                neighbour_graph = nx.erdos_renyi_graph(n,p_neighbour)\n",
    "                if(is_TDA_capture_better(target_graph,neighbour_graph)):case_TDA_better += 1\n",
    "                total_cases += 1\n",
    "            if(i + 1 < p_range_length):\n",
    "                p_neighbour = p_low_bound + p_step*(i+1)\n",
    "                neighbour_graph = nx.erdos_renyi_graph(n,p_neighbour)\n",
    "                if(is_TDA_capture_better(target_graph,neighbour_graph)):case_TDA_better += 1\n",
    "                total_cases += 1\n",
    "            if(j - 1 >= 0):\n",
    "                n_neighbour = n_low_bound + n_step*(j-1)\n",
    "                neighbour_graph = nx.erdos_renyi_graph(n_neighbour,p)\n",
    "                if(is_TDA_capture_better(target_graph,neighbour_graph)):case_TDA_better += 1\n",
    "                total_cases += 1\n",
    "            if(j + 1 < n_range_length):\n",
    "                n_neighbour = n_low_bound + n_step*(j+1)\n",
    "                neighbour_graph = nx.erdos_renyi_graph(n_neighbour,p)\n",
    "                if(is_TDA_capture_better(target_graph,neighbour_graph)):case_TDA_better += 1\n",
    "                total_cases += 1\n",
    "                \n",
    "    return case_TDA_better/total_cases"
   ]
  },
  {
   "cell_type": "markdown",
   "id": "740dab6e",
   "metadata": {},
   "source": [
    "# Final result\n",
    "\n",
    "*The fraction below is generating by conducting the sample of graphs generated by `ER model` with* \n",
    " - **[ 20,50 ]** and **1** are the range of n and increment step, respectively\n",
    " - **[ 0.1,0.9 ]** and **0.1** are the range of n and increment step, respectively"
   ]
  },
  {
   "cell_type": "code",
   "execution_count": 109,
   "id": "099f0f67",
   "metadata": {},
   "outputs": [
    {
     "data": {
      "text/plain": [
       "0.9584942084942085"
      ]
     },
     "execution_count": 109,
     "metadata": {},
     "output_type": "execute_result"
    }
   ],
   "source": [
    "score = compare_similarity_TDA_graph(n_low_bound = 20,n_upper_bound= 50,n_step = 1,p_low_bound = 0.1,p_upper_bound= 0.9,p_step = 0.1)\n",
    "score"
   ]
  },
  {
   "cell_type": "markdown",
   "id": "dc1f0ab7",
   "metadata": {},
   "source": [
    "# Result with similary score threshold\n",
    "\n",
    "*Graphs are generated with threshold is 20 for the similarity score between 2 graphs in order to have 2 learnning graphs with similarity score below 20, if it takes longer than 5 seconds to generate, skip that iteration.*"
   ]
  },
  {
   "cell_type": "code",
   "execution_count": 8,
   "id": "a171cab9",
   "metadata": {},
   "outputs": [],
   "source": [
    "def graph_generator(target_graph,n,p):\n",
    "    start_time = time.time()\n",
    "    duraiton = 5\n",
    "    while time.time() - start_time < duraiton:\n",
    "        G = nx.erdos_renyi_graph(n,p)\n",
    "        score = calculate_similarity(target_graph,G)\n",
    "        if score < 10:\n",
    "            return G\n",
    "        time.sleep(0.1)\n",
    "    return None #return None if take longer than 5s to generate expected graphs"
   ]
  },
  {
   "cell_type": "code",
   "execution_count": 9,
   "id": "4743cc27",
   "metadata": {},
   "outputs": [],
   "source": [
    "def compare_similarity_TDA_graph_threshold(n_low_bound,n_upper_bound,n_step, p_low_bound,p_upper_bound,p_step ):\n",
    "    case_TDA_better = 0\n",
    "    total_cases = 0\n",
    "    n_range_length = round((n_upper_bound - n_low_bound)/n_step) + 1\n",
    "    p_range_length = round((p_upper_bound - p_low_bound)/p_step) + 1\n",
    "    \n",
    "    for i in range(p_range_length):\n",
    "        for j in range(n_range_length):\n",
    "            n = n_low_bound + n_step*j\n",
    "            p = p_low_bound + p_step*i\n",
    "            target_graph = nx.erdos_renyi_graph(n,p)\n",
    "            #Compare current graph with neighbour graphs\n",
    "            if(i-1 >=0):\n",
    "                p_neighbour = p_low_bound + p_step*(i-1)\n",
    "                neighbour_graph = graph_generator(target_graph,n,p_neighbour)\n",
    "                if(neighbour_graph != None):\n",
    "                    if(is_TDA_capture_better(target_graph,neighbour_graph)):case_TDA_better += 1\n",
    "                    total_cases += 1\n",
    "            if(i + 1 < p_range_length):\n",
    "                p_neighbour = p_low_bound + p_step*(i+1)\n",
    "                neighbour_graph = graph_generator(target_graph,n,p_neighbour)\n",
    "                if(neighbour_graph != None):\n",
    "                    if(is_TDA_capture_better(target_graph,neighbour_graph)):case_TDA_better += 1\n",
    "                    total_cases += 1\n",
    "            if(j - 1 >= 0):\n",
    "                n_neighbour = n_low_bound + n_step*(j-1)\n",
    "                neighbour_graph = graph_generator(target_graph,n_neighbour,p)\n",
    "                if(neighbour_graph != None):\n",
    "                    if(is_TDA_capture_better(target_graph,neighbour_graph)):case_TDA_better += 1\n",
    "                    total_cases += 1\n",
    "            if(j + 1 < n_range_length):\n",
    "                n_neighbour = n_low_bound + n_step*(j+1)\n",
    "                neighbour_graph = graph_generator(target_graph,n_neighbour,p)\n",
    "                if(neighbour_graph != None):\n",
    "                    if(is_TDA_capture_better(target_graph,neighbour_graph)):case_TDA_better += 1\n",
    "                    total_cases += 1\n",
    "                \n",
    "    return case_TDA_better/total_cases"
   ]
  },
  {
   "cell_type": "code",
   "execution_count": 110,
   "id": "3db6304a",
   "metadata": {},
   "outputs": [
    {
     "data": {
      "text/plain": [
       "0.8225806451612904"
      ]
     },
     "execution_count": 110,
     "metadata": {},
     "output_type": "execute_result"
    }
   ],
   "source": [
    "score = compare_similarity_TDA_graph_threshold(n_low_bound = 20,n_upper_bound= 50,n_step = 1,p_low_bound = 0.1,p_upper_bound= 0.3,p_step = 0.1)\n",
    "score\n"
   ]
  },
  {
   "cell_type": "code",
   "execution_count": 10,
   "id": "4980c590",
   "metadata": {},
   "outputs": [],
   "source": [
    "def add_node_to_graph(graph,new_node,p):\n",
    "    new_graph = graph.copy()\n",
    "    new_graph.add_node(new_node)\n",
    "    existing_nodes = list(graph.nodes())[:-1]  # Exclude the new node\n",
    "    for existing_node in existing_nodes:\n",
    "        if random.random() < p:  \n",
    "            new_graph.add_edge(new_node, existing_node)\n",
    "    return new_graph\n",
    "    "
   ]
  },
  {
   "cell_type": "code",
   "execution_count": 11,
   "id": "37bae1e5",
   "metadata": {},
   "outputs": [],
   "source": [
    "def remove_least_degree_node(graph):\n",
    "    degrees = graph.degree()\n",
    "    min_degree_node = min(degrees, key=lambda x: x[1])[0]\n",
    "    # Remove the node with the minimum degree\n",
    "    new_graph = graph.copy()\n",
    "    new_graph.remove_node(min_degree_node)\n",
    "    return new_graph"
   ]
  },
  {
   "cell_type": "code",
   "execution_count": 12,
   "id": "2401f76a",
   "metadata": {},
   "outputs": [],
   "source": [
    "def random_add_new_edge(graph,p,n):\n",
    "    new_graph = graph.copy()\n",
    "    if random.random() < p:\n",
    "        node1 = random.randint(1,n)\n",
    "        node2 = random.randint(1,n)\n",
    "        while graph.has_edge(node1,node2) or node1 == node2 :\n",
    "            node1 = random.randint(1,n)\n",
    "            node2 = random.randint(1,n)\n",
    "        new_graph.add_edge(node1,node2)\n",
    "    return new_graph"
   ]
  },
  {
   "cell_type": "code",
   "execution_count": 13,
   "id": "d2ed4fd9",
   "metadata": {},
   "outputs": [],
   "source": [
    "def random_remove_edge(graph,p):\n",
    "    new_graph = graph.copy()\n",
    "    if random.random() < p:\n",
    "        random_edge = random.choice(list(graph.edges()))\n",
    "\n",
    "        # Remove the randomly selected edge\n",
    "        new_graph.remove_edge(*random_edge)\n",
    "    return new_graph"
   ]
  },
  {
   "cell_type": "code",
   "execution_count": 14,
   "id": "80e5144b",
   "metadata": {},
   "outputs": [],
   "source": [
    "def compare_similarity_TDA_graph_v2(n_low_bound,n_upper_bound,n_step, p_low_bound,p_upper_bound,p_step ):\n",
    "    case_TDA_better = 0\n",
    "    total_cases = 0\n",
    "    n_range_length = round((n_upper_bound - n_low_bound)/n_step) + 1\n",
    "    p_range_length = round((p_upper_bound - p_low_bound)/p_step) + 1\n",
    "    \n",
    "    for i in range(p_range_length):\n",
    "        for j in range(n_range_length):\n",
    "            n = n_low_bound + n_step*j\n",
    "            p = p_low_bound + p_step*i\n",
    "            target_graph = nx.erdos_renyi_graph(n,p)\n",
    "            #Compare current graph with neighbour graphs\n",
    "            if(i-1 >=0):\n",
    "                p_neighbour = p_low_bound + p_step*(i-1)\n",
    "                neighbour_graph = random_remove_edge(target_graph,1)\n",
    "                if(is_TDA_capture_better(target_graph,neighbour_graph)):case_TDA_better += 1\n",
    "                total_cases += 1\n",
    "            if(i + 1 < p_range_length):\n",
    "                p_neighbour = p_low_bound + p_step*(i+1)\n",
    "                neighbour_graph = random_add_new_edge(target_graph,1,n)\n",
    "                if(is_TDA_capture_better(target_graph,neighbour_graph)):case_TDA_better += 1\n",
    "                total_cases += 1\n",
    "            if(j - 1 >= 0):\n",
    "                n_neighbour = n_low_bound + n_step*(j-1)\n",
    "                neighbour_graph = remove_least_degree_node(target_graph)\n",
    "                if(is_TDA_capture_better(target_graph,neighbour_graph)):case_TDA_better += 1\n",
    "                total_cases += 1\n",
    "            if(j + 1 < n_range_length):\n",
    "                n_neighbour = n_low_bound + n_step*(j+1)\n",
    "                neighbour_graph = add_node_to_graph(target_graph,n_neighbour,p)\n",
    "                if(is_TDA_capture_better(target_graph,neighbour_graph)):case_TDA_better += 1\n",
    "                total_cases += 1\n",
    "                \n",
    "    return case_TDA_better/total_cases"
   ]
  },
  {
   "cell_type": "code",
   "execution_count": 35,
   "id": "a54b48f2",
   "metadata": {},
   "outputs": [
    {
     "ename": "NetworkXError",
     "evalue": "Graph has no nodes or edges",
     "output_type": "error",
     "traceback": [
      "\u001b[1;31m---------------------------------------------------------------------------\u001b[0m",
      "\u001b[1;31mNetworkXError\u001b[0m                             Traceback (most recent call last)",
      "\u001b[1;32m~\\AppData\\Local\\Temp\\ipykernel_21976\\697304080.py\u001b[0m in \u001b[0;36m<module>\u001b[1;34m\u001b[0m\n\u001b[1;32m----> 1\u001b[1;33m \u001b[0mscore\u001b[0m \u001b[1;33m=\u001b[0m \u001b[0mcompare_similarity_TDA_graph_v2\u001b[0m\u001b[1;33m(\u001b[0m\u001b[0mn_low_bound\u001b[0m \u001b[1;33m=\u001b[0m \u001b[1;36m40\u001b[0m\u001b[1;33m,\u001b[0m\u001b[0mn_upper_bound\u001b[0m\u001b[1;33m=\u001b[0m \u001b[1;36m42\u001b[0m\u001b[1;33m,\u001b[0m\u001b[0mn_step\u001b[0m \u001b[1;33m=\u001b[0m \u001b[1;36m1\u001b[0m\u001b[1;33m,\u001b[0m\u001b[0mp_low_bound\u001b[0m \u001b[1;33m=\u001b[0m \u001b[1;36m0.7\u001b[0m\u001b[1;33m,\u001b[0m\u001b[0mp_upper_bound\u001b[0m\u001b[1;33m=\u001b[0m \u001b[1;36m0.9\u001b[0m\u001b[1;33m,\u001b[0m\u001b[0mp_step\u001b[0m \u001b[1;33m=\u001b[0m \u001b[1;36m0.1\u001b[0m\u001b[1;33m)\u001b[0m\u001b[1;33m\u001b[0m\u001b[1;33m\u001b[0m\u001b[0m\n\u001b[0m\u001b[0;32m      2\u001b[0m \u001b[0mscore\u001b[0m\u001b[1;33m\u001b[0m\u001b[1;33m\u001b[0m\u001b[0m\n",
      "\u001b[1;32m~\\AppData\\Local\\Temp\\ipykernel_21976\\152234537.py\u001b[0m in \u001b[0;36mcompare_similarity_TDA_graph_v2\u001b[1;34m(n_low_bound, n_upper_bound, n_step, p_low_bound, p_upper_bound, p_step)\u001b[0m\n\u001b[0;32m     19\u001b[0m                 \u001b[0mp_neighbour\u001b[0m \u001b[1;33m=\u001b[0m \u001b[0mp_low_bound\u001b[0m \u001b[1;33m+\u001b[0m \u001b[0mp_step\u001b[0m\u001b[1;33m*\u001b[0m\u001b[1;33m(\u001b[0m\u001b[0mi\u001b[0m\u001b[1;33m+\u001b[0m\u001b[1;36m1\u001b[0m\u001b[1;33m)\u001b[0m\u001b[1;33m\u001b[0m\u001b[1;33m\u001b[0m\u001b[0m\n\u001b[0;32m     20\u001b[0m                 \u001b[0mneighbour_graph\u001b[0m \u001b[1;33m=\u001b[0m \u001b[0mrandom_add_new_edge\u001b[0m\u001b[1;33m(\u001b[0m\u001b[0mtarget_graph\u001b[0m\u001b[1;33m,\u001b[0m\u001b[1;36m1\u001b[0m\u001b[1;33m,\u001b[0m\u001b[0mn\u001b[0m\u001b[1;33m)\u001b[0m\u001b[1;33m\u001b[0m\u001b[1;33m\u001b[0m\u001b[0m\n\u001b[1;32m---> 21\u001b[1;33m                 \u001b[1;32mif\u001b[0m\u001b[1;33m(\u001b[0m\u001b[0mis_TDA_capture_better\u001b[0m\u001b[1;33m(\u001b[0m\u001b[0mtarget_graph\u001b[0m\u001b[1;33m,\u001b[0m\u001b[0mneighbour_graph\u001b[0m\u001b[1;33m)\u001b[0m\u001b[1;33m)\u001b[0m\u001b[1;33m:\u001b[0m\u001b[0mcase_TDA_better\u001b[0m \u001b[1;33m+=\u001b[0m \u001b[1;36m1\u001b[0m\u001b[1;33m\u001b[0m\u001b[1;33m\u001b[0m\u001b[0m\n\u001b[0m\u001b[0;32m     22\u001b[0m                 \u001b[0mtotal_cases\u001b[0m \u001b[1;33m+=\u001b[0m \u001b[1;36m1\u001b[0m\u001b[1;33m\u001b[0m\u001b[1;33m\u001b[0m\u001b[0m\n\u001b[0;32m     23\u001b[0m             \u001b[1;32mif\u001b[0m\u001b[1;33m(\u001b[0m\u001b[0mj\u001b[0m \u001b[1;33m-\u001b[0m \u001b[1;36m1\u001b[0m \u001b[1;33m>=\u001b[0m \u001b[1;36m0\u001b[0m\u001b[1;33m)\u001b[0m\u001b[1;33m:\u001b[0m\u001b[1;33m\u001b[0m\u001b[1;33m\u001b[0m\u001b[0m\n",
      "\u001b[1;32m~\\AppData\\Local\\Temp\\ipykernel_21976\\1732022209.py\u001b[0m in \u001b[0;36mis_TDA_capture_better\u001b[1;34m(learning_graph, neighbour_graph)\u001b[0m\n\u001b[0;32m      4\u001b[0m     \u001b[0mTDA_learning_graph\u001b[0m \u001b[1;33m=\u001b[0m \u001b[0mTDA_transformation\u001b[0m\u001b[1;33m(\u001b[0m\u001b[0mextract_graph_features\u001b[0m\u001b[1;33m(\u001b[0m\u001b[0mlearning_graph\u001b[0m\u001b[1;33m)\u001b[0m\u001b[1;33m)\u001b[0m\u001b[1;33m\u001b[0m\u001b[1;33m\u001b[0m\u001b[0m\n\u001b[0;32m      5\u001b[0m     \u001b[0mTDA_neighbour_graph\u001b[0m \u001b[1;33m=\u001b[0m \u001b[0mTDA_transformation\u001b[0m\u001b[1;33m(\u001b[0m\u001b[0mextract_graph_features\u001b[0m\u001b[1;33m(\u001b[0m\u001b[0mneighbour_graph\u001b[0m\u001b[1;33m)\u001b[0m\u001b[1;33m)\u001b[0m\u001b[1;33m\u001b[0m\u001b[1;33m\u001b[0m\u001b[0m\n\u001b[1;32m----> 6\u001b[1;33m     \u001b[0mTDA_similarity_score\u001b[0m \u001b[1;33m=\u001b[0m \u001b[0mcalculate_similarity\u001b[0m\u001b[1;33m(\u001b[0m\u001b[0mTDA_learning_graph\u001b[0m\u001b[1;33m,\u001b[0m\u001b[0mTDA_neighbour_graph\u001b[0m\u001b[1;33m)\u001b[0m\u001b[1;33m\u001b[0m\u001b[1;33m\u001b[0m\u001b[0m\n\u001b[0m\u001b[0;32m      7\u001b[0m     \u001b[1;32mif\u001b[0m\u001b[1;33m(\u001b[0m\u001b[0mTDA_similarity_score\u001b[0m \u001b[1;33m<\u001b[0m \u001b[0moriginal_similarity_score\u001b[0m \u001b[1;33m)\u001b[0m\u001b[1;33m:\u001b[0m \u001b[0misBetter\u001b[0m \u001b[1;33m=\u001b[0m \u001b[1;32mTrue\u001b[0m\u001b[1;33m\u001b[0m\u001b[1;33m\u001b[0m\u001b[0m\n\u001b[0;32m      8\u001b[0m     \u001b[1;32mreturn\u001b[0m \u001b[0misBetter\u001b[0m\u001b[1;33m\u001b[0m\u001b[1;33m\u001b[0m\u001b[0m\n",
      "\u001b[1;32m~\\AppData\\Local\\Temp\\ipykernel_21976\\2515564737.py\u001b[0m in \u001b[0;36mcalculate_similarity\u001b[1;34m(graph1, graph2)\u001b[0m\n\u001b[0;32m      1\u001b[0m \u001b[1;32mdef\u001b[0m \u001b[0mcalculate_similarity\u001b[0m\u001b[1;33m(\u001b[0m\u001b[0mgraph1\u001b[0m\u001b[1;33m,\u001b[0m\u001b[0mgraph2\u001b[0m\u001b[1;33m)\u001b[0m\u001b[1;33m:\u001b[0m\u001b[1;33m\u001b[0m\u001b[1;33m\u001b[0m\u001b[0m\n\u001b[1;32m----> 2\u001b[1;33m     \u001b[0mlaplacian1\u001b[0m \u001b[1;33m=\u001b[0m \u001b[0mnx\u001b[0m\u001b[1;33m.\u001b[0m\u001b[0mspectrum\u001b[0m\u001b[1;33m.\u001b[0m\u001b[0mlaplacian_spectrum\u001b[0m\u001b[1;33m(\u001b[0m\u001b[0mgraph1\u001b[0m\u001b[1;33m)\u001b[0m\u001b[1;33m\u001b[0m\u001b[1;33m\u001b[0m\u001b[0m\n\u001b[0m\u001b[0;32m      3\u001b[0m     \u001b[0mlaplacian2\u001b[0m \u001b[1;33m=\u001b[0m \u001b[0mnx\u001b[0m\u001b[1;33m.\u001b[0m\u001b[0mspectrum\u001b[0m\u001b[1;33m.\u001b[0m\u001b[0mlaplacian_spectrum\u001b[0m\u001b[1;33m(\u001b[0m\u001b[0mgraph2\u001b[0m\u001b[1;33m)\u001b[0m\u001b[1;33m\u001b[0m\u001b[1;33m\u001b[0m\u001b[0m\n\u001b[0;32m      4\u001b[0m \u001b[1;33m\u001b[0m\u001b[0m\n\u001b[0;32m      5\u001b[0m     \u001b[0mk1\u001b[0m \u001b[1;33m=\u001b[0m \u001b[0mselect_k\u001b[0m\u001b[1;33m(\u001b[0m\u001b[0mlaplacian1\u001b[0m\u001b[1;33m)\u001b[0m\u001b[1;33m\u001b[0m\u001b[1;33m\u001b[0m\u001b[0m\n",
      "\u001b[1;32mD:\\Anaconda\\lib\\site-packages\\networkx\\linalg\\spectrum.py\u001b[0m in \u001b[0;36mlaplacian_spectrum\u001b[1;34m(G, weight)\u001b[0m\n\u001b[0;32m     54\u001b[0m     \u001b[1;32mimport\u001b[0m \u001b[0mscipy\u001b[0m\u001b[1;33m.\u001b[0m\u001b[0mlinalg\u001b[0m  \u001b[1;31m# call as sp.linalg\u001b[0m\u001b[1;33m\u001b[0m\u001b[1;33m\u001b[0m\u001b[0m\n\u001b[0;32m     55\u001b[0m \u001b[1;33m\u001b[0m\u001b[0m\n\u001b[1;32m---> 56\u001b[1;33m     \u001b[1;32mreturn\u001b[0m \u001b[0msp\u001b[0m\u001b[1;33m.\u001b[0m\u001b[0mlinalg\u001b[0m\u001b[1;33m.\u001b[0m\u001b[0meigvalsh\u001b[0m\u001b[1;33m(\u001b[0m\u001b[0mnx\u001b[0m\u001b[1;33m.\u001b[0m\u001b[0mlaplacian_matrix\u001b[0m\u001b[1;33m(\u001b[0m\u001b[0mG\u001b[0m\u001b[1;33m,\u001b[0m \u001b[0mweight\u001b[0m\u001b[1;33m=\u001b[0m\u001b[0mweight\u001b[0m\u001b[1;33m)\u001b[0m\u001b[1;33m.\u001b[0m\u001b[0mtodense\u001b[0m\u001b[1;33m(\u001b[0m\u001b[1;33m)\u001b[0m\u001b[1;33m)\u001b[0m\u001b[1;33m\u001b[0m\u001b[1;33m\u001b[0m\u001b[0m\n\u001b[0m\u001b[0;32m     57\u001b[0m \u001b[1;33m\u001b[0m\u001b[0m\n\u001b[0;32m     58\u001b[0m \u001b[1;33m\u001b[0m\u001b[0m\n",
      "\u001b[1;32mD:\\Anaconda\\lib\\site-packages\\networkx\\utils\\decorators.py\u001b[0m in \u001b[0;36margmap_laplacian_matrix_5\u001b[1;34m(G, nodelist, weight)\u001b[0m\n\u001b[0;32m      2\u001b[0m \u001b[1;32mimport\u001b[0m \u001b[0mcollections\u001b[0m\u001b[1;33m\u001b[0m\u001b[1;33m\u001b[0m\u001b[0m\n\u001b[0;32m      3\u001b[0m \u001b[1;32mimport\u001b[0m \u001b[0mgzip\u001b[0m\u001b[1;33m\u001b[0m\u001b[1;33m\u001b[0m\u001b[0m\n\u001b[1;32m----> 4\u001b[1;33m \u001b[1;32mimport\u001b[0m \u001b[0minspect\u001b[0m\u001b[1;33m\u001b[0m\u001b[1;33m\u001b[0m\u001b[0m\n\u001b[0m\u001b[0;32m      5\u001b[0m \u001b[1;32mimport\u001b[0m \u001b[0mitertools\u001b[0m\u001b[1;33m\u001b[0m\u001b[1;33m\u001b[0m\u001b[0m\n\u001b[0;32m      6\u001b[0m \u001b[1;32mimport\u001b[0m \u001b[0mre\u001b[0m\u001b[1;33m\u001b[0m\u001b[1;33m\u001b[0m\u001b[0m\n",
      "\u001b[1;32mD:\\Anaconda\\lib\\site-packages\\networkx\\linalg\\laplacianmatrix.py\u001b[0m in \u001b[0;36mlaplacian_matrix\u001b[1;34m(G, nodelist, weight)\u001b[0m\n\u001b[0;32m     68\u001b[0m     \u001b[1;32mif\u001b[0m \u001b[0mnodelist\u001b[0m \u001b[1;32mis\u001b[0m \u001b[1;32mNone\u001b[0m\u001b[1;33m:\u001b[0m\u001b[1;33m\u001b[0m\u001b[1;33m\u001b[0m\u001b[0m\n\u001b[0;32m     69\u001b[0m         \u001b[0mnodelist\u001b[0m \u001b[1;33m=\u001b[0m \u001b[0mlist\u001b[0m\u001b[1;33m(\u001b[0m\u001b[0mG\u001b[0m\u001b[1;33m)\u001b[0m\u001b[1;33m\u001b[0m\u001b[1;33m\u001b[0m\u001b[0m\n\u001b[1;32m---> 70\u001b[1;33m     \u001b[0mA\u001b[0m \u001b[1;33m=\u001b[0m \u001b[0mnx\u001b[0m\u001b[1;33m.\u001b[0m\u001b[0mto_scipy_sparse_array\u001b[0m\u001b[1;33m(\u001b[0m\u001b[0mG\u001b[0m\u001b[1;33m,\u001b[0m \u001b[0mnodelist\u001b[0m\u001b[1;33m=\u001b[0m\u001b[0mnodelist\u001b[0m\u001b[1;33m,\u001b[0m \u001b[0mweight\u001b[0m\u001b[1;33m=\u001b[0m\u001b[0mweight\u001b[0m\u001b[1;33m,\u001b[0m \u001b[0mformat\u001b[0m\u001b[1;33m=\u001b[0m\u001b[1;34m\"csr\"\u001b[0m\u001b[1;33m)\u001b[0m\u001b[1;33m\u001b[0m\u001b[1;33m\u001b[0m\u001b[0m\n\u001b[0m\u001b[0;32m     71\u001b[0m     \u001b[0mn\u001b[0m\u001b[1;33m,\u001b[0m \u001b[0mm\u001b[0m \u001b[1;33m=\u001b[0m \u001b[0mA\u001b[0m\u001b[1;33m.\u001b[0m\u001b[0mshape\u001b[0m\u001b[1;33m\u001b[0m\u001b[1;33m\u001b[0m\u001b[0m\n\u001b[0;32m     72\u001b[0m     \u001b[1;31m# TODO: rm csr_array wrapper when spdiags can produce arrays\u001b[0m\u001b[1;33m\u001b[0m\u001b[1;33m\u001b[0m\u001b[0m\n",
      "\u001b[1;32mD:\\Anaconda\\lib\\site-packages\\networkx\\convert_matrix.py\u001b[0m in \u001b[0;36mto_scipy_sparse_array\u001b[1;34m(G, nodelist, dtype, weight, format)\u001b[0m\n\u001b[0;32m    548\u001b[0m \u001b[1;33m\u001b[0m\u001b[0m\n\u001b[0;32m    549\u001b[0m     \u001b[1;32mif\u001b[0m \u001b[0mlen\u001b[0m\u001b[1;33m(\u001b[0m\u001b[0mG\u001b[0m\u001b[1;33m)\u001b[0m \u001b[1;33m==\u001b[0m \u001b[1;36m0\u001b[0m\u001b[1;33m:\u001b[0m\u001b[1;33m\u001b[0m\u001b[1;33m\u001b[0m\u001b[0m\n\u001b[1;32m--> 550\u001b[1;33m         \u001b[1;32mraise\u001b[0m \u001b[0mnx\u001b[0m\u001b[1;33m.\u001b[0m\u001b[0mNetworkXError\u001b[0m\u001b[1;33m(\u001b[0m\u001b[1;34m\"Graph has no nodes or edges\"\u001b[0m\u001b[1;33m)\u001b[0m\u001b[1;33m\u001b[0m\u001b[1;33m\u001b[0m\u001b[0m\n\u001b[0m\u001b[0;32m    551\u001b[0m \u001b[1;33m\u001b[0m\u001b[0m\n\u001b[0;32m    552\u001b[0m     \u001b[1;32mif\u001b[0m \u001b[0mnodelist\u001b[0m \u001b[1;32mis\u001b[0m \u001b[1;32mNone\u001b[0m\u001b[1;33m:\u001b[0m\u001b[1;33m\u001b[0m\u001b[1;33m\u001b[0m\u001b[0m\n",
      "\u001b[1;31mNetworkXError\u001b[0m: Graph has no nodes or edges"
     ]
    }
   ],
   "source": [
    "score = compare_similarity_TDA_graph_v2(n_low_bound = 30,n_upper_bound= 32,n_step = 1,p_low_bound = 0.7,p_upper_bound= 0.9,p_step = 0.1)\n",
    "score\n"
   ]
  }
 ],
 "metadata": {
  "kernelspec": {
   "display_name": "Python 3 (ipykernel)",
   "language": "python",
   "name": "python3"
  },
  "language_info": {
   "codemirror_mode": {
    "name": "ipython",
    "version": 3
   },
   "file_extension": ".py",
   "mimetype": "text/x-python",
   "name": "python",
   "nbconvert_exporter": "python",
   "pygments_lexer": "ipython3",
   "version": "3.9.13"
  }
 },
 "nbformat": 4,
 "nbformat_minor": 5
}
