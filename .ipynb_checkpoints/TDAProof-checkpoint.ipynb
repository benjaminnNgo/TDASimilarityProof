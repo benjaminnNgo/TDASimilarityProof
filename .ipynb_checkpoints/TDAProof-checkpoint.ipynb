{
 "cells": [
  {
   "cell_type": "code",
   "execution_count": 16,
   "id": "8d88506d",
   "metadata": {},
   "outputs": [],
   "source": [
    "import numpy as np\n",
    "import networkx as nx\n",
    "import kmapper as km\n",
    "import sklearn\n",
    "import warnings\n",
    "warnings.filterwarnings(\"ignore\")"
   ]
  },
  {
   "cell_type": "markdown",
   "id": "1f89a84c",
   "metadata": {},
   "source": [
    "# Graph Similarity & TDA\n",
    "**Author**: Bao Ngo\n",
    "\n",
    "**Last updated** : 30 May\n",
    "\n",
    "**Abstract**: Compare the similariry scores of 2 graphs before applying TDA transformation and after applying TDA method\n",
    "\n",
    "**Description**: \n",
    "- `Similarity score` is calculated by implementing algorithm that can by find in this paper: https://www.cs.cmu.edu/~jingx/docs/DBreport.pdf\n",
    "\n",
    "- Similarity test is conducted by compare the simmilarity score between 2 graphs before and after apply TDA method in the sample of graphs generating using `Erdos Renyl(ER) Model`\n",
    "\n",
    "\n",
    "\n"
   ]
  },
  {
   "cell_type": "markdown",
   "id": "220641f5",
   "metadata": {},
   "source": [
    "# Similarity score methods"
   ]
  },
  {
   "cell_type": "markdown",
   "id": "d589d00f",
   "metadata": {},
   "source": [
    "**Find the smallest k such that the sum of the k largest eigenvalues constitutes at least 90% of the sum of all of the eigenvalues**"
   ]
  },
  {
   "cell_type": "code",
   "execution_count": 2,
   "id": "ce93f020",
   "metadata": {},
   "outputs": [],
   "source": [
    "def select_k(spectrum, minimum_energy = 0.9):\n",
    "    running_total = 0.0 \n",
    "    \n",
    "    total = sum(spectrum)\n",
    "    if total == 0.0:\n",
    "        return len(spectrum)\n",
    "    for i in range(len(spectrum)):\n",
    "        running_total += spectrum[i]\n",
    "        if running_total / total >= minimum_energy:\n",
    "            return i + 1\n",
    "    return len(spectrum)"
   ]
  },
  {
   "cell_type": "markdown",
   "id": "f967dbca",
   "metadata": {},
   "source": [
    "**Method to calculate similarity score between 2 graphs**"
   ]
  },
  {
   "cell_type": "code",
   "execution_count": 3,
   "id": "0fc4a9b1",
   "metadata": {},
   "outputs": [],
   "source": [
    "def calculate_similarity(graph1,graph2):\n",
    "    laplacian1 = nx.spectrum.laplacian_spectrum(graph1)\n",
    "    laplacian2 = nx.spectrum.laplacian_spectrum(graph2)\n",
    "    \n",
    "    k1 = select_k(laplacian1)\n",
    "    k2 = select_k(laplacian2)\n",
    "    k = min(k1, k2) #k are different between the two graphs, then use the smaller one.\n",
    "    similarity = sum((laplacian1[:k] - laplacian2[:k])**2) #sum of the squared differences between the largest k eigenvalues\n",
    "    return similarity\n"
   ]
  },
  {
   "cell_type": "markdown",
   "id": "67e8610c",
   "metadata": {},
   "source": [
    "# TDA methods"
   ]
  },
  {
   "cell_type": "markdown",
   "id": "d6639f29",
   "metadata": {},
   "source": [
    "**Create data for TDA method by extracting 5 node features:**\n",
    " - `Pagerank`\n",
    " - `Degree centrality`\n",
    " - `Closeness centrality`\n",
    " - `Betweenes centrality `\n",
    " - `Clustering`\n"
   ]
  },
  {
   "cell_type": "code",
   "execution_count": 4,
   "id": "2f086df9",
   "metadata": {},
   "outputs": [],
   "source": [
    "def extract_graph_features(graph):\n",
    "    pr = nx.pagerank(graph,0.9)\n",
    "    dc = nx.degree_centrality(graph)\n",
    "    cc = nx.closeness_centrality(graph)\n",
    "    bx = nx.betweenness_centrality(graph)\n",
    "    c = nx.clustering(graph)\n",
    "    \n",
    "    #create list for each features\n",
    "    pr_list =  [i for i in pr.values()]\n",
    "    dc_list =  [i for i in dc.values()]\n",
    "    cc_list =  [i for i in cc.values()]\n",
    "    bx_list =  [i for i in bx.values()]\n",
    "    c_list =  [i for i in c.values()]\n",
    "    data = np.column_stack((pr_list,dc_list,cc_list,bx_list,c_list))\n",
    "    return data"
   ]
  },
  {
   "cell_type": "markdown",
   "id": "a68ca00f",
   "metadata": {},
   "source": [
    "**TDA tramsformation method, which take in graph represent data,extracting from each graph, and return a new graph**"
   ]
  },
  {
   "cell_type": "code",
   "execution_count": 5,
   "id": "eb1bb616",
   "metadata": {},
   "outputs": [],
   "source": [
    "def TDA_transformation(data):\n",
    "    Xfilt = data\n",
    "    mapper = km.KeplerMapper()\n",
    "    scaler = sklearn.preprocessing.MinMaxScaler(feature_range=(0, 1))\n",
    "    Xfilt = scaler.fit_transform(Xfilt)\n",
    "    lens = mapper.fit_transform(Xfilt, projection=sklearn.manifold.TSNE())\n",
    "    cls = 5  # We use cls= 5\n",
    "\n",
    "    graph = mapper.map(lens,Xfilt,clusterer=sklearn.cluster.KMeans(n_clusters=cls, random_state=1618033),\n",
    "        cover=km.Cover(n_cubes=2, perc_overlap=0.6))\n",
    "    return km.to_nx(graph)"
   ]
  },
  {
   "cell_type": "markdown",
   "id": "b8392f1e",
   "metadata": {},
   "source": [
    "# Similarity test on TDA methods\n",
    "**Method to conduct test similarity test on 2 graph**\n",
    "\n",
    "*This method will return `true` if graphs after TDA transformation are more similar*"
   ]
  },
  {
   "cell_type": "code",
   "execution_count": 9,
   "id": "79730322",
   "metadata": {},
   "outputs": [],
   "source": [
    "def is_TDA_capture_better(learning_graph, neighbour_graph):\n",
    "    isBetter = False\n",
    "    original_similarity_score = calculate_similarity(learning_graph,neighbour_graph)\n",
    "    TDA_learning_graph = TDA_transformation(extract_graph_features(learning_graph))\n",
    "    TDA_neighbour_graph = TDA_transformation(extract_graph_features(neighbour_graph))\n",
    "    TDA_similarity_score = calculate_similarity(TDA_learning_graph,TDA_neighbour_graph)\n",
    "    if(TDA_similarity_score < original_similarity_score ): isBetter = True\n",
    "    return isBetter"
   ]
  },
  {
   "cell_type": "markdown",
   "id": "08fc33ca",
   "metadata": {},
   "source": [
    "**Method to conduct similarity test for each graph and their neighbour in the sample of graphs generating by using `ER model`**\n",
    "\n",
    "*This method will return the fraction between the case that similarity score of two graphs after applying TDA transformation is `higher` and the total of similarity tests*"
   ]
  },
  {
   "cell_type": "code",
   "execution_count": 7,
   "id": "0f4e0168",
   "metadata": {},
   "outputs": [],
   "source": [
    "def compare_similarity_TDA_graph(n_low_bound,n_upper_bound,n_step, p_low_bound,p_upper_bound,p_step ):\n",
    "    case_TDA_better = 0\n",
    "    total_cases = 0\n",
    "    n_range_length = round((n_upper_bound - n_low_bound)/n_step) + 1\n",
    "    p_range_length = round((p_upper_bound - p_low_bound)/p_step) + 1\n",
    "    \n",
    "    for i in range(p_range_length):\n",
    "        for j in range(n_range_length):\n",
    "            n = n_low_bound + n_step*j\n",
    "            p = p_low_bound + p_step*i\n",
    "            target_graph = nx.erdos_renyi_graph(n,p)\n",
    "            #Compare current graph with neighbour graphs\n",
    "            if(i-1 >=0):\n",
    "                p_neighbour = p_low_bound + p_step*(i-1)\n",
    "                neighbour_graph = nx.erdos_renyi_graph(n,p_neighbour)\n",
    "                if(is_TDA_capture_better(target_graph,neighbour_graph)):case_TDA_better += 1\n",
    "                total_cases += 1\n",
    "            if(i + 1 < p_range_length):\n",
    "                p_neighbour = p_low_bound + p_step*(i+1)\n",
    "                neighbour_graph = nx.erdos_renyi_graph(n,p_neighbour)\n",
    "                if(is_TDA_capture_better(target_graph,neighbour_graph)):case_TDA_better += 1\n",
    "                total_cases += 1\n",
    "            if(j - 1 >= 0):\n",
    "                n_neighbour = n_low_bound + n_step*(j-1)\n",
    "                neighbour_graph = nx.erdos_renyi_graph(n_neighbour,p)\n",
    "                if(is_TDA_capture_better(target_graph,neighbour_graph)):case_TDA_better += 1\n",
    "                total_cases += 1\n",
    "            if(j + 1 < n_range_length):\n",
    "                n_neighbour = n_low_bound + n_step*(j+1)\n",
    "                neighbour_graph = nx.erdos_renyi_graph(n_neighbour,p)\n",
    "                if(is_TDA_capture_better(target_graph,neighbour_graph)):case_TDA_better += 1\n",
    "                total_cases += 1\n",
    "                \n",
    "    return case_TDA_better/total_cases"
   ]
  },
  {
   "cell_type": "markdown",
   "id": "740dab6e",
   "metadata": {},
   "source": [
    "# Final result\n",
    "\n",
    "*The fraction below is generating by conducting the sample of graphs generated by `ER model` with* \n",
    " - ***[ 10,100 ]** and **10** are the range of n and increment step, respectively*\n",
    "  - ***[ 0.1,0.9 ]** and **0.1** are the range of n and increment step, respectively*"
   ]
  },
  {
   "cell_type": "code",
   "execution_count": 18,
   "id": "099f0f67",
   "metadata": {},
   "outputs": [
    {
     "data": {
      "text/plain": [
       "0.6863354037267081"
      ]
     },
     "execution_count": 18,
     "metadata": {},
     "output_type": "execute_result"
    }
   ],
   "source": [
    "score = compare_similarity_TDA_graph(n_low_bound = 10,n_upper_bound= 100,n_step = 10,p_low_bound = 0.1,p_upper_bound= 0.9,p_step = 0.1)\n",
    "score"
   ]
  }
 ],
 "metadata": {
  "kernelspec": {
   "display_name": "Python 3 (ipykernel)",
   "language": "python",
   "name": "python3"
  },
  "language_info": {
   "codemirror_mode": {
    "name": "ipython",
    "version": 3
   },
   "file_extension": ".py",
   "mimetype": "text/x-python",
   "name": "python",
   "nbconvert_exporter": "python",
   "pygments_lexer": "ipython3",
   "version": "3.10.9"
  }
 },
 "nbformat": 4,
 "nbformat_minor": 5
}
