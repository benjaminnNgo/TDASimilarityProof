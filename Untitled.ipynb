{
 "cells": [
  {
   "cell_type": "code",
   "execution_count": 5,
   "id": "ef88d5c8",
   "metadata": {},
   "outputs": [],
   "source": [
    "def calc_average_for_hop(hop,n,p,k,delta_n,delta_p,delta_k):\n",
    "    original = []\n",
    "    TDA =[]\n",
    "    for i in range(-hop,hop + 1):\n",
    "        for j in range(-hop,hop + 1):\n",
    "            for t in range(-hop,hop+1):\n",
    "                if (i == -hop or i == hop or j == -hop or j == hop or t == hop or t == -hop):\n",
    "                    print(i*delta_n + n,j*delta_p + p,k + delta_k *t)"
   ]
  },
  {
   "cell_type": "code",
   "execution_count": 6,
   "id": "4476e260",
   "metadata": {},
   "outputs": [
    {
     "name": "stdout",
     "output_type": "stream",
     "text": [
      "9 0.4 4\n",
      "9 0.4 5\n",
      "9 0.4 6\n",
      "9 0.5 4\n",
      "9 0.5 5\n",
      "9 0.5 6\n",
      "9 0.6 4\n",
      "9 0.6 5\n",
      "9 0.6 6\n",
      "10 0.4 4\n",
      "10 0.4 5\n",
      "10 0.4 6\n",
      "10 0.5 4\n",
      "10 0.5 6\n",
      "10 0.6 4\n",
      "10 0.6 5\n",
      "10 0.6 6\n",
      "11 0.4 4\n",
      "11 0.4 5\n",
      "11 0.4 6\n",
      "11 0.5 4\n",
      "11 0.5 5\n",
      "11 0.5 6\n",
      "11 0.6 4\n",
      "11 0.6 5\n",
      "11 0.6 6\n"
     ]
    }
   ],
   "source": [
    "calc_average_for_hop(1,10,0.5,5,1,0.1,1)"
   ]
  }
 ],
 "metadata": {
  "kernelspec": {
   "display_name": "Python 3 (ipykernel)",
   "language": "python",
   "name": "python3"
  },
  "language_info": {
   "codemirror_mode": {
    "name": "ipython",
    "version": 3
   },
   "file_extension": ".py",
   "mimetype": "text/x-python",
   "name": "python",
   "nbconvert_exporter": "python",
   "pygments_lexer": "ipython3",
   "version": "3.9.13"
  }
 },
 "nbformat": 4,
 "nbformat_minor": 5
}
